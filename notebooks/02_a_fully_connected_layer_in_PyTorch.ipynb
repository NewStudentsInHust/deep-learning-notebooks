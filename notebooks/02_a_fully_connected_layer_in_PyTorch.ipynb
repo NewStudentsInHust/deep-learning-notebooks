{
 "cells": [
  {
   "cell_type": "markdown",
   "id": "e03ae067",
   "metadata": {},
   "source": [
    "# A fully connected layer in PyTorch\n",
    "**Other names**: A linear layer, A dense layer (in Tensorflow or Keras)"
   ]
  },
  {
   "cell_type": "code",
   "execution_count": 1,
   "id": "5ffeb0ca",
   "metadata": {},
   "outputs": [],
   "source": [
    "import torch"
   ]
  },
  {
   "cell_type": "code",
   "execution_count": 2,
   "id": "468f7f0b",
   "metadata": {},
   "outputs": [
    {
     "data": {
      "text/plain": [
       "tensor([[ 0.,  1.,  2.,  3.,  4.],\n",
       "        [ 5.,  6.,  7.,  8.,  9.],\n",
       "        [10., 11., 12., 13., 14.],\n",
       "        [15., 16., 17., 18., 19.],\n",
       "        [20., 21., 22., 23., 24.],\n",
       "        [25., 26., 27., 28., 29.],\n",
       "        [30., 31., 32., 33., 34.],\n",
       "        [35., 36., 37., 38., 39.],\n",
       "        [40., 41., 42., 43., 44.],\n",
       "        [45., 46., 47., 48., 49.]])"
      ]
     },
     "execution_count": 2,
     "metadata": {},
     "output_type": "execute_result"
    }
   ],
   "source": [
    "# create a matrix \n",
    "X = torch.arange(50, dtype=torch.float).view(10, 5) \n",
    "X"
   ]
  },
  {
   "cell_type": "code",
   "execution_count": 3,
   "id": "96c44fe9",
   "metadata": {},
   "outputs": [
    {
     "data": {
      "text/plain": [
       "Linear(in_features=5, out_features=3, bias=True)"
      ]
     },
     "execution_count": 3,
     "metadata": {},
     "output_type": "execute_result"
    }
   ],
   "source": [
    "fc_layer = torch.nn.Linear(in_features=5, out_features=3) # bias=True is default\n",
    "fc_layer"
   ]
  },
  {
   "cell_type": "code",
   "execution_count": 4,
   "id": "f8be39c8",
   "metadata": {},
   "outputs": [
    {
     "data": {
      "text/plain": [
       "Parameter containing:\n",
       "tensor([[ 0.1325, -0.2247,  0.1653, -0.1677,  0.2888],\n",
       "        [-0.3017,  0.0852,  0.0861, -0.4444,  0.0958],\n",
       "        [ 0.2309, -0.2778,  0.3433, -0.4222,  0.0495]], requires_grad=True)"
      ]
     },
     "execution_count": 4,
     "metadata": {},
     "output_type": "execute_result"
    }
   ],
   "source": [
    "fc_layer.weight"
   ]
  },
  {
   "cell_type": "code",
   "execution_count": 5,
   "id": "f67ce0d5",
   "metadata": {},
   "outputs": [
    {
     "data": {
      "text/plain": [
       "Parameter containing:\n",
       "tensor([ 0.4059, -0.2701,  0.3123], requires_grad=True)"
      ]
     },
     "execution_count": 5,
     "metadata": {},
     "output_type": "execute_result"
    }
   ],
   "source": [
    "fc_layer.bias"
   ]
  },
  {
   "cell_type": "code",
   "execution_count": 6,
   "id": "f9e1c50b",
   "metadata": {},
   "outputs": [
    {
     "data": {
      "text/plain": [
       "tensor([[  1.1639,  -0.9627,  -0.3476],\n",
       "        [  2.1354,  -3.3575,  -0.7290],\n",
       "        [  3.1068,  -5.7522,  -1.1105],\n",
       "        [  4.0783,  -8.1470,  -1.4920],\n",
       "        [  5.0498, -10.5417,  -1.8734],\n",
       "        [  6.0212, -12.9365,  -2.2549],\n",
       "        [  6.9927, -15.3312,  -2.6363],\n",
       "        [  7.9642, -17.7260,  -3.0178],\n",
       "        [  8.9356, -20.1207,  -3.3993],\n",
       "        [  9.9071, -22.5155,  -3.7807]], grad_fn=<AddmmBackward>)"
      ]
     },
     "execution_count": 6,
     "metadata": {},
     "output_type": "execute_result"
    }
   ],
   "source": [
    "# A = XW.t() + b\n",
    "A = fc_layer(X)\n",
    "A"
   ]
  },
  {
   "cell_type": "code",
   "execution_count": 7,
   "id": "dc7321c2",
   "metadata": {},
   "outputs": [
    {
     "name": "stdout",
     "output_type": "stream",
     "text": [
      "X dim: torch.Size([10, 5])\n",
      "Weights dim: torch.Size([3, 5])\n",
      "Bias dim: torch.Size([3])\n",
      "A dim: tensor([[  1.1639,  -0.9627,  -0.3476],\n",
      "        [  2.1354,  -3.3575,  -0.7290],\n",
      "        [  3.1068,  -5.7522,  -1.1105],\n",
      "        [  4.0783,  -8.1470,  -1.4920],\n",
      "        [  5.0498, -10.5417,  -1.8734],\n",
      "        [  6.0212, -12.9365,  -2.2549],\n",
      "        [  6.9927, -15.3312,  -2.6363],\n",
      "        [  7.9642, -17.7260,  -3.0178],\n",
      "        [  8.9356, -20.1207,  -3.3993],\n",
      "        [  9.9071, -22.5155,  -3.7807]], grad_fn=<AddmmBackward>)\n"
     ]
    }
   ],
   "source": [
    "# .size() is equivalent to .shape in PyTorch\n",
    "print('X dim:', X.size())\n",
    "print('Weights dim:', fc_layer.weight.size())\n",
    "print('Bias dim:', fc_layer.bias.size())\n",
    "print('A dim:', A)"
   ]
  }
 ],
 "metadata": {
  "kernelspec": {
   "display_name": "Python 3 (ipykernel)",
   "language": "python",
   "name": "python3"
  },
  "language_info": {
   "codemirror_mode": {
    "name": "ipython",
    "version": 3
   },
   "file_extension": ".py",
   "mimetype": "text/x-python",
   "name": "python",
   "nbconvert_exporter": "python",
   "pygments_lexer": "ipython3",
   "version": "3.8.8"
  }
 },
 "nbformat": 4,
 "nbformat_minor": 5
}
