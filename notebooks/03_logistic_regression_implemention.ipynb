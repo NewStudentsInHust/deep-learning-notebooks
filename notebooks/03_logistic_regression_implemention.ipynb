{
 "cells": [
  {
   "cell_type": "markdown",
   "id": "9dda5ddc",
   "metadata": {},
   "source": [
    "# Implement Logistic Regression with PyTorch API"
   ]
  },
  {
   "cell_type": "code",
   "execution_count": 1,
   "id": "b49295a0",
   "metadata": {},
   "outputs": [],
   "source": [
    "import pandas as pd\n",
    "import matplotlib.pyplot as plt\n",
    "from sklearn.model_selection import train_test_split\n",
    "from sklearn.metrics import accuracy_score\n",
    "import torch\n",
    "import torch.nn.functional as F\n",
    "%matplotlib inline"
   ]
  },
  {
   "cell_type": "code",
   "execution_count": 2,
   "id": "2d3e4e24",
   "metadata": {},
   "outputs": [
    {
     "name": "stdout",
     "output_type": "stream",
     "text": [
      "Author: Nguyen Huu Duc\n",
      "\n",
      "torch     : 1.10.0\n",
      "matplotlib: 3.4.2\n",
      "pandas    : 1.3.4\n",
      "\n"
     ]
    }
   ],
   "source": [
    "%load_ext watermark \n",
    "%watermark -a \"Nguyen Huu Duc\" -iv"
   ]
  },
  {
   "cell_type": "code",
   "execution_count": 3,
   "id": "85695d3d",
   "metadata": {},
   "outputs": [
    {
     "data": {
      "text/html": [
       "<div>\n",
       "<style scoped>\n",
       "    .dataframe tbody tr th:only-of-type {\n",
       "        vertical-align: middle;\n",
       "    }\n",
       "\n",
       "    .dataframe tbody tr th {\n",
       "        vertical-align: top;\n",
       "    }\n",
       "\n",
       "    .dataframe thead th {\n",
       "        text-align: right;\n",
       "    }\n",
       "</style>\n",
       "<table border=\"1\" class=\"dataframe\">\n",
       "  <thead>\n",
       "    <tr style=\"text-align: right;\">\n",
       "      <th></th>\n",
       "      <th>X1</th>\n",
       "      <th>X2</th>\n",
       "      <th>y</th>\n",
       "    </tr>\n",
       "  </thead>\n",
       "  <tbody>\n",
       "    <tr>\n",
       "      <th>0</th>\n",
       "      <td>0.77</td>\n",
       "      <td>-1.14</td>\n",
       "      <td>0</td>\n",
       "    </tr>\n",
       "    <tr>\n",
       "      <th>1</th>\n",
       "      <td>-0.33</td>\n",
       "      <td>1.44</td>\n",
       "      <td>0</td>\n",
       "    </tr>\n",
       "    <tr>\n",
       "      <th>2</th>\n",
       "      <td>0.91</td>\n",
       "      <td>-3.07</td>\n",
       "      <td>0</td>\n",
       "    </tr>\n",
       "    <tr>\n",
       "      <th>3</th>\n",
       "      <td>-0.37</td>\n",
       "      <td>-1.91</td>\n",
       "      <td>0</td>\n",
       "    </tr>\n",
       "    <tr>\n",
       "      <th>4</th>\n",
       "      <td>-1.84</td>\n",
       "      <td>-1.13</td>\n",
       "      <td>0</td>\n",
       "    </tr>\n",
       "  </tbody>\n",
       "</table>\n",
       "</div>"
      ],
      "text/plain": [
       "     X1    X2  y\n",
       "0  0.77 -1.14  0\n",
       "1 -0.33  1.44  0\n",
       "2  0.91 -3.07  0\n",
       "3 -0.37 -1.91  0\n",
       "4 -1.84 -1.13  0"
      ]
     },
     "execution_count": 3,
     "metadata": {},
     "output_type": "execute_result"
    }
   ],
   "source": [
    "df = pd.read_table('data\\\\toy.txt', names=['X1', 'X2', 'y'])\n",
    "df.head()"
   ]
  },
  {
   "cell_type": "code",
   "execution_count": 4,
   "id": "490fa6e8",
   "metadata": {},
   "outputs": [],
   "source": [
    "# prepare X (features) and y (target)\n",
    "X = df[['X1', 'X2']]\n",
    "y = df['y']\n",
    "\n",
    "# do train_test_split (train:75, test:25)\n",
    "X_train, X_test, y_train, y_test = train_test_split(X, y, random_state=1, stratify=y)"
   ]
  },
  {
   "cell_type": "markdown",
   "id": "13deea0b",
   "metadata": {},
   "source": [
    "## Implement Logistic Regression"
   ]
  },
  {
   "cell_type": "code",
   "execution_count": 5,
   "id": "4edf72a1",
   "metadata": {},
   "outputs": [],
   "source": [
    "device = torch.device('cuda:0' if torch.cuda.is_available() else 'cpu')\n",
    "cost = []\n",
    "\n",
    "class LogisticRegression(torch.nn.Module):\n",
    "    \n",
    "    def __init__(self, num_features):\n",
    "        super(LogisticRegression, self).__init__()\n",
    "        self.linear = torch.nn.Linear(in_features=num_features, out_features=1, device=device)\n",
    "        self.linear.weight.detach().zero_()\n",
    "        self.linear.bias.detach().zero_()\n",
    "        \n",
    "    def forward(self, x):\n",
    "        logits = self.linear(x)\n",
    "        probas = torch.sigmoid(logits)\n",
    "        return probas\n",
    "    \n",
    "    ### Training ###\n",
    "    def train(self, x, y, num_epochs, learning_rate=0.1, minibatch_size=10, seed=123):\n",
    "        \n",
    "        # shuffle \n",
    "        shuffle_idx = torch.randperm(y.size(0), dtype=torch.long)\n",
    "        minibatches = torch.split(shuffle_idx, minibatch_size)\n",
    "        torch.manual_seed(seed)\n",
    "        \n",
    "        # use stochastic gradient descent as an optimizer\n",
    "        optimizer = torch.optim.SGD(self.parameters(), lr=learning_rate)\n",
    "    \n",
    "    \n",
    "        for e in range(num_epochs):\n",
    "            for minibatch_idx in minibatches:\n",
    "                \n",
    "                # compute probabilities\n",
    "                probas = self.forward(x[minibatch_idx])\n",
    "                \n",
    "                # compute the loss\n",
    "                loss = F.binary_cross_entropy(probas, y[minibatch_idx].view(-1, 1), reduction='mean')\n",
    "                \n",
    "                # reset gradients from previous round\n",
    "                optimizer.zero_grad()\n",
    "                \n",
    "                # compute gradients\n",
    "                loss.backward()\n",
    "                \n",
    "                # update weights and bias\n",
    "                optimizer.step()\n",
    "        \n",
    "            ### Logging ###\n",
    "            with torch.no_grad():\n",
    "                y_probas = self.forward(x)\n",
    "                curr_loss= F.binary_cross_entropy(y_probas, y.view(-1, 1))\n",
    "                print('Epoch: %03d' %(e+1), end='')\n",
    "                print(' | Accuracy: %.3f' %self.evaluate(x, y), end='')\n",
    "                print(' | Loss: %.3f' %curr_loss)\n",
    "                cost.append(curr_loss)\n",
    "                \n",
    "    ### Evaluate ###\n",
    "    def evaluate(self, x, y):\n",
    "        y_pred_probas = self.forward(x).view(-1)\n",
    "        y_pred = torch.where(y_pred_probas > .5, 1, 0)\n",
    "        accuracy = torch.sum(y_pred==y) / y.size(0)\n",
    "        return accuracy\n",
    "    \n",
    "    ### Make predictions ###\n",
    "    def predict(self, x):\n",
    "        y_pred_probas = self.forward(x).view(-1)\n",
    "        y_pred = torch.where(y_pred_probas > .5, 1, 0)\n",
    "        return y_pred"
   ]
  },
  {
   "cell_type": "code",
   "execution_count": 6,
   "id": "a7240905",
   "metadata": {},
   "outputs": [],
   "source": [
    "# convert numpy arrays into pytorch tensors\n",
    "X_train = torch.tensor(X_train.values, dtype=torch.float, device=device)\n",
    "X_test = torch.tensor(X_test.values, dtype=torch.float, device=device)\n",
    "y_train = torch.tensor(y_train.values, dtype=torch.float, device=device)\n",
    "y_test = torch.tensor(y_test.values, dtype=torch.float, device=device)"
   ]
  },
  {
   "cell_type": "code",
   "execution_count": 7,
   "id": "8589895f",
   "metadata": {},
   "outputs": [
    {
     "name": "stdout",
     "output_type": "stream",
     "text": [
      "Epoch: 001 | Accuracy: 0.973 | Loss: 0.213\n",
      "Epoch: 002 | Accuracy: 0.973 | Loss: 0.145\n",
      "Epoch: 003 | Accuracy: 0.973 | Loss: 0.119\n",
      "Epoch: 004 | Accuracy: 0.973 | Loss: 0.104\n",
      "Epoch: 005 | Accuracy: 0.973 | Loss: 0.095\n",
      "Epoch: 006 | Accuracy: 0.973 | Loss: 0.089\n",
      "Epoch: 007 | Accuracy: 0.973 | Loss: 0.084\n",
      "Epoch: 008 | Accuracy: 0.973 | Loss: 0.080\n",
      "Epoch: 009 | Accuracy: 0.973 | Loss: 0.078\n",
      "Epoch: 010 | Accuracy: 0.973 | Loss: 0.075\n",
      "Epoch: 011 | Accuracy: 0.973 | Loss: 0.073\n",
      "Epoch: 012 | Accuracy: 0.973 | Loss: 0.071\n",
      "Epoch: 013 | Accuracy: 0.973 | Loss: 0.070\n",
      "Epoch: 014 | Accuracy: 0.973 | Loss: 0.069\n",
      "Epoch: 015 | Accuracy: 0.973 | Loss: 0.067\n",
      "Epoch: 016 | Accuracy: 0.973 | Loss: 0.066\n",
      "Epoch: 017 | Accuracy: 0.973 | Loss: 0.065\n",
      "Epoch: 018 | Accuracy: 0.973 | Loss: 0.064\n",
      "Epoch: 019 | Accuracy: 0.973 | Loss: 0.064\n",
      "Epoch: 020 | Accuracy: 0.973 | Loss: 0.063\n",
      "Epoch: 021 | Accuracy: 0.973 | Loss: 0.062\n",
      "Epoch: 022 | Accuracy: 0.973 | Loss: 0.061\n",
      "Epoch: 023 | Accuracy: 0.973 | Loss: 0.061\n",
      "Epoch: 024 | Accuracy: 0.973 | Loss: 0.060\n",
      "Epoch: 025 | Accuracy: 0.973 | Loss: 0.060\n",
      "Epoch: 026 | Accuracy: 0.973 | Loss: 0.059\n",
      "Epoch: 027 | Accuracy: 0.973 | Loss: 0.059\n",
      "Epoch: 028 | Accuracy: 0.973 | Loss: 0.058\n",
      "Epoch: 029 | Accuracy: 0.973 | Loss: 0.058\n",
      "Epoch: 030 | Accuracy: 0.973 | Loss: 0.057\n",
      "Epoch: 031 | Accuracy: 0.973 | Loss: 0.057\n",
      "Epoch: 032 | Accuracy: 0.973 | Loss: 0.056\n",
      "Epoch: 033 | Accuracy: 0.973 | Loss: 0.056\n",
      "Epoch: 034 | Accuracy: 0.973 | Loss: 0.056\n",
      "Epoch: 035 | Accuracy: 0.973 | Loss: 0.055\n",
      "Epoch: 036 | Accuracy: 0.973 | Loss: 0.055\n",
      "Epoch: 037 | Accuracy: 0.973 | Loss: 0.055\n",
      "Epoch: 038 | Accuracy: 0.973 | Loss: 0.054\n",
      "Epoch: 039 | Accuracy: 0.973 | Loss: 0.054\n",
      "Epoch: 040 | Accuracy: 0.973 | Loss: 0.053\n",
      "Epoch: 041 | Accuracy: 0.973 | Loss: 0.053\n",
      "Epoch: 042 | Accuracy: 0.973 | Loss: 0.053\n",
      "Epoch: 043 | Accuracy: 0.973 | Loss: 0.053\n",
      "Epoch: 044 | Accuracy: 0.973 | Loss: 0.052\n",
      "Epoch: 045 | Accuracy: 0.973 | Loss: 0.052\n",
      "Epoch: 046 | Accuracy: 0.973 | Loss: 0.052\n",
      "Epoch: 047 | Accuracy: 0.973 | Loss: 0.051\n",
      "Epoch: 048 | Accuracy: 0.973 | Loss: 0.051\n",
      "Epoch: 049 | Accuracy: 0.973 | Loss: 0.051\n",
      "Epoch: 050 | Accuracy: 0.973 | Loss: 0.051\n",
      "Epoch: 051 | Accuracy: 0.973 | Loss: 0.050\n",
      "Epoch: 052 | Accuracy: 0.973 | Loss: 0.050\n",
      "Epoch: 053 | Accuracy: 0.973 | Loss: 0.050\n",
      "Epoch: 054 | Accuracy: 0.973 | Loss: 0.050\n",
      "Epoch: 055 | Accuracy: 0.973 | Loss: 0.049\n",
      "Epoch: 056 | Accuracy: 0.973 | Loss: 0.049\n",
      "Epoch: 057 | Accuracy: 0.973 | Loss: 0.049\n",
      "Epoch: 058 | Accuracy: 0.973 | Loss: 0.049\n",
      "Epoch: 059 | Accuracy: 0.973 | Loss: 0.049\n",
      "Epoch: 060 | Accuracy: 0.973 | Loss: 0.048\n",
      "Epoch: 061 | Accuracy: 0.973 | Loss: 0.048\n",
      "Epoch: 062 | Accuracy: 0.973 | Loss: 0.048\n",
      "Epoch: 063 | Accuracy: 0.973 | Loss: 0.048\n",
      "Epoch: 064 | Accuracy: 0.973 | Loss: 0.048\n",
      "Epoch: 065 | Accuracy: 0.973 | Loss: 0.047\n",
      "Epoch: 066 | Accuracy: 0.973 | Loss: 0.047\n",
      "Epoch: 067 | Accuracy: 0.973 | Loss: 0.047\n",
      "Epoch: 068 | Accuracy: 0.973 | Loss: 0.047\n",
      "Epoch: 069 | Accuracy: 0.973 | Loss: 0.047\n",
      "Epoch: 070 | Accuracy: 0.973 | Loss: 0.046\n",
      "Epoch: 071 | Accuracy: 0.973 | Loss: 0.046\n",
      "Epoch: 072 | Accuracy: 0.973 | Loss: 0.046\n",
      "Epoch: 073 | Accuracy: 0.973 | Loss: 0.046\n",
      "Epoch: 074 | Accuracy: 0.973 | Loss: 0.046\n",
      "Epoch: 075 | Accuracy: 0.973 | Loss: 0.045\n",
      "Epoch: 076 | Accuracy: 0.973 | Loss: 0.045\n",
      "Epoch: 077 | Accuracy: 0.973 | Loss: 0.045\n",
      "Epoch: 078 | Accuracy: 0.973 | Loss: 0.045\n",
      "Epoch: 079 | Accuracy: 0.973 | Loss: 0.045\n",
      "Epoch: 080 | Accuracy: 0.973 | Loss: 0.045\n",
      "Epoch: 081 | Accuracy: 0.973 | Loss: 0.045\n",
      "Epoch: 082 | Accuracy: 0.973 | Loss: 0.044\n",
      "Epoch: 083 | Accuracy: 0.973 | Loss: 0.044\n",
      "Epoch: 084 | Accuracy: 0.973 | Loss: 0.044\n",
      "Epoch: 085 | Accuracy: 0.973 | Loss: 0.044\n",
      "Epoch: 086 | Accuracy: 0.973 | Loss: 0.044\n",
      "Epoch: 087 | Accuracy: 0.973 | Loss: 0.044\n",
      "Epoch: 088 | Accuracy: 0.973 | Loss: 0.043\n",
      "Epoch: 089 | Accuracy: 0.973 | Loss: 0.043\n",
      "Epoch: 090 | Accuracy: 0.973 | Loss: 0.043\n",
      "Epoch: 091 | Accuracy: 0.973 | Loss: 0.043\n",
      "Epoch: 092 | Accuracy: 0.973 | Loss: 0.043\n",
      "Epoch: 093 | Accuracy: 0.973 | Loss: 0.043\n",
      "Epoch: 094 | Accuracy: 0.973 | Loss: 0.043\n",
      "Epoch: 095 | Accuracy: 0.973 | Loss: 0.043\n",
      "Epoch: 096 | Accuracy: 0.973 | Loss: 0.042\n",
      "Epoch: 097 | Accuracy: 0.973 | Loss: 0.042\n",
      "Epoch: 098 | Accuracy: 0.973 | Loss: 0.042\n",
      "Epoch: 099 | Accuracy: 0.973 | Loss: 0.042\n",
      "Epoch: 100 | Accuracy: 0.973 | Loss: 0.042\n",
      "Epoch: 101 | Accuracy: 0.973 | Loss: 0.042\n",
      "Epoch: 102 | Accuracy: 0.973 | Loss: 0.042\n",
      "Epoch: 103 | Accuracy: 0.973 | Loss: 0.042\n",
      "Epoch: 104 | Accuracy: 0.973 | Loss: 0.041\n",
      "Epoch: 105 | Accuracy: 0.973 | Loss: 0.041\n",
      "Epoch: 106 | Accuracy: 0.973 | Loss: 0.041\n",
      "Epoch: 107 | Accuracy: 0.973 | Loss: 0.041\n",
      "Epoch: 108 | Accuracy: 0.973 | Loss: 0.041\n",
      "Epoch: 109 | Accuracy: 0.973 | Loss: 0.041\n",
      "Epoch: 110 | Accuracy: 0.973 | Loss: 0.041\n",
      "Epoch: 111 | Accuracy: 0.973 | Loss: 0.041\n",
      "Epoch: 112 | Accuracy: 0.973 | Loss: 0.040\n",
      "Epoch: 113 | Accuracy: 0.973 | Loss: 0.040\n",
      "Epoch: 114 | Accuracy: 0.973 | Loss: 0.040\n",
      "Epoch: 115 | Accuracy: 0.973 | Loss: 0.040\n",
      "Epoch: 116 | Accuracy: 0.973 | Loss: 0.040\n",
      "Epoch: 117 | Accuracy: 0.973 | Loss: 0.040\n",
      "Epoch: 118 | Accuracy: 0.973 | Loss: 0.040\n",
      "Epoch: 119 | Accuracy: 0.973 | Loss: 0.040\n",
      "Epoch: 120 | Accuracy: 0.973 | Loss: 0.040\n",
      "Epoch: 121 | Accuracy: 0.973 | Loss: 0.040\n",
      "Epoch: 122 | Accuracy: 0.973 | Loss: 0.039\n",
      "Epoch: 123 | Accuracy: 0.973 | Loss: 0.039\n",
      "Epoch: 124 | Accuracy: 0.973 | Loss: 0.039\n",
      "Epoch: 125 | Accuracy: 0.973 | Loss: 0.039\n",
      "Epoch: 126 | Accuracy: 0.973 | Loss: 0.039\n",
      "Epoch: 127 | Accuracy: 0.973 | Loss: 0.039\n",
      "Epoch: 128 | Accuracy: 0.973 | Loss: 0.039\n",
      "Epoch: 129 | Accuracy: 0.973 | Loss: 0.039\n",
      "Epoch: 130 | Accuracy: 0.973 | Loss: 0.039\n",
      "Epoch: 131 | Accuracy: 0.973 | Loss: 0.039\n",
      "Epoch: 132 | Accuracy: 0.973 | Loss: 0.038\n",
      "Epoch: 133 | Accuracy: 0.973 | Loss: 0.038\n",
      "Epoch: 134 | Accuracy: 0.973 | Loss: 0.038\n",
      "Epoch: 135 | Accuracy: 0.973 | Loss: 0.038\n",
      "Epoch: 136 | Accuracy: 0.973 | Loss: 0.038\n",
      "Epoch: 137 | Accuracy: 0.973 | Loss: 0.038\n",
      "Epoch: 138 | Accuracy: 0.987 | Loss: 0.038\n",
      "Epoch: 139 | Accuracy: 0.987 | Loss: 0.038\n",
      "Epoch: 140 | Accuracy: 0.987 | Loss: 0.038\n",
      "Epoch: 141 | Accuracy: 0.987 | Loss: 0.038\n",
      "Epoch: 142 | Accuracy: 0.987 | Loss: 0.038\n",
      "Epoch: 143 | Accuracy: 0.987 | Loss: 0.038\n",
      "Epoch: 144 | Accuracy: 0.987 | Loss: 0.037\n",
      "Epoch: 145 | Accuracy: 0.987 | Loss: 0.037\n",
      "Epoch: 146 | Accuracy: 0.987 | Loss: 0.037\n",
      "Epoch: 147 | Accuracy: 0.987 | Loss: 0.037\n",
      "Epoch: 148 | Accuracy: 0.987 | Loss: 0.037\n",
      "Epoch: 149 | Accuracy: 0.987 | Loss: 0.037\n",
      "Epoch: 150 | Accuracy: 0.987 | Loss: 0.037\n",
      "Epoch: 151 | Accuracy: 0.987 | Loss: 0.037\n",
      "Epoch: 152 | Accuracy: 0.987 | Loss: 0.037\n",
      "Epoch: 153 | Accuracy: 0.987 | Loss: 0.037\n",
      "Epoch: 154 | Accuracy: 0.987 | Loss: 0.037\n",
      "Epoch: 155 | Accuracy: 0.987 | Loss: 0.037\n",
      "Epoch: 156 | Accuracy: 0.987 | Loss: 0.036\n",
      "Epoch: 157 | Accuracy: 0.987 | Loss: 0.036\n",
      "Epoch: 158 | Accuracy: 0.987 | Loss: 0.036\n",
      "Epoch: 159 | Accuracy: 0.987 | Loss: 0.036\n",
      "Epoch: 160 | Accuracy: 0.987 | Loss: 0.036\n"
     ]
    }
   ],
   "source": [
    "# training\n",
    "logreg = LogisticRegression(num_features=2).to(device)\n",
    "logreg.train(X_train, y_train, num_epochs=160)"
   ]
  },
  {
   "cell_type": "code",
   "execution_count": 8,
   "id": "6e4ef534",
   "metadata": {},
   "outputs": [
    {
     "data": {
      "text/plain": [
       "[<matplotlib.lines.Line2D at 0x179586d4eb0>]"
      ]
     },
     "execution_count": 8,
     "metadata": {},
     "output_type": "execute_result"
    },
    {
     "data": {
      "image/png": "[encoded data removed]",
      "text/plain": [
       "<Figure size 432x288 with 1 Axes>"
      ]
     },
     "metadata": {
      "needs_background": "light"
     },
     "output_type": "display_data"
    }
   ],
   "source": [
    "# plot the loss after each epoch\n",
    "plt.plot(range(len(cost)), cost)"
   ]
  },
  {
   "cell_type": "code",
   "execution_count": 9,
   "id": "65e4f4f8",
   "metadata": {},
   "outputs": [
    {
     "name": "stdout",
     "output_type": "stream",
     "text": [
      "tensor([1, 0, 1, 1, 1, 0, 1, 1, 1, 0, 0, 1, 1, 0, 1, 0, 0, 0, 0, 0, 1, 1, 0, 0,\n",
      "        1])\n",
      "Test Accuracy: 100.00%\n"
     ]
    }
   ],
   "source": [
    "# make predictions on the test set\n",
    "print(logreg.predict(X_test))\n",
    "print(f'Test Accuracy: {accuracy_score(y_test, logreg.predict(X_test))*100:.2f}%')"
   ]
  }
 ],
 "metadata": {
  "kernelspec": {
   "display_name": "Python 3 (ipykernel)",
   "language": "python",
   "name": "python3"
  },
  "language_info": {
   "codemirror_mode": {
    "name": "ipython",
    "version": 3
   },
   "file_extension": ".py",
   "mimetype": "text/x-python",
   "name": "python",
   "nbconvert_exporter": "python",
   "pygments_lexer": "ipython3",
   "version": "3.8.8"
  }
 },
 "nbformat": 4,
 "nbformat_minor": 5
}
