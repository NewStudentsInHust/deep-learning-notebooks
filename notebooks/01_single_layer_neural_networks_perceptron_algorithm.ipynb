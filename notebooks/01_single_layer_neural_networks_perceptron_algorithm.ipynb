{
 "cells": [
  {
   "cell_type": "code",
   "execution_count": 1,
   "id": "7b7cae3e",
   "metadata": {},
   "outputs": [],
   "source": [
    "import torch\n",
    "import pandas as pd\n",
    "from sklearn.model_selection import train_test_split"
   ]
  },
  {
   "cell_type": "code",
   "execution_count": 2,
   "id": "6fd8ba7e",
   "metadata": {},
   "outputs": [
    {
     "data": {
      "text/html": [
       "<div>\n",
       "<style scoped>\n",
       "    .dataframe tbody tr th:only-of-type {\n",
       "        vertical-align: middle;\n",
       "    }\n",
       "\n",
       "    .dataframe tbody tr th {\n",
       "        vertical-align: top;\n",
       "    }\n",
       "\n",
       "    .dataframe thead th {\n",
       "        text-align: right;\n",
       "    }\n",
       "</style>\n",
       "<table border=\"1\" class=\"dataframe\">\n",
       "  <thead>\n",
       "    <tr style=\"text-align: right;\">\n",
       "      <th></th>\n",
       "      <th>feature_1</th>\n",
       "      <th>feature_2</th>\n",
       "      <th>target</th>\n",
       "    </tr>\n",
       "  </thead>\n",
       "  <tbody>\n",
       "    <tr>\n",
       "      <th>0</th>\n",
       "      <td>0.77</td>\n",
       "      <td>-1.14</td>\n",
       "      <td>0</td>\n",
       "    </tr>\n",
       "    <tr>\n",
       "      <th>1</th>\n",
       "      <td>-0.33</td>\n",
       "      <td>1.44</td>\n",
       "      <td>0</td>\n",
       "    </tr>\n",
       "    <tr>\n",
       "      <th>2</th>\n",
       "      <td>0.91</td>\n",
       "      <td>-3.07</td>\n",
       "      <td>0</td>\n",
       "    </tr>\n",
       "    <tr>\n",
       "      <th>3</th>\n",
       "      <td>-0.37</td>\n",
       "      <td>-1.91</td>\n",
       "      <td>0</td>\n",
       "    </tr>\n",
       "    <tr>\n",
       "      <th>4</th>\n",
       "      <td>-1.84</td>\n",
       "      <td>-1.13</td>\n",
       "      <td>0</td>\n",
       "    </tr>\n",
       "  </tbody>\n",
       "</table>\n",
       "</div>"
      ],
      "text/plain": [
       "   feature_1  feature_2  target\n",
       "0       0.77      -1.14       0\n",
       "1      -0.33       1.44       0\n",
       "2       0.91      -3.07       0\n",
       "3      -0.37      -1.91       0\n",
       "4      -1.84      -1.13       0"
      ]
     },
     "execution_count": 2,
     "metadata": {},
     "output_type": "execute_result"
    }
   ],
   "source": [
    "df = pd.read_table('data\\\\toy.txt', names=['feature_1', 'feature_2', 'target'])\n",
    "df.head()"
   ]
  },
  {
   "cell_type": "code",
   "execution_count": 3,
   "id": "4a433451",
   "metadata": {},
   "outputs": [],
   "source": [
    "# determine whether system supports CUDA or not \n",
    "DEVICE = torch.device('cuda:0' if torch.cuda.is_available() else 'cpu')"
   ]
  },
  {
   "cell_type": "code",
   "execution_count": 4,
   "id": "3e5fa49e",
   "metadata": {},
   "outputs": [],
   "source": [
    "# prepare data (training & testing)\n",
    "X = df[['feature_1', 'feature_2']]\n",
    "y = df['target'] \n",
    "\n",
    "# split the data for training and testing\n",
    "X_train, X_test, y_train, y_test = train_test_split(X, y, random_state=1, stratify=y)\n",
    "\n",
    "# convert numpy arrays into pytorch tensors\n",
    "X_train = torch.tensor(X_train.values, dtype=torch.float, device=DEVICE)\n",
    "y_train = torch.tensor(y_train.values, dtype=torch.float, device=DEVICE)\n",
    "X_test = torch.tensor(X_test.values, dtype=torch.float, device=DEVICE)\n",
    "y_test = torch.tensor(y_test.values, dtype=torch.float, device=DEVICE)"
   ]
  },
  {
   "cell_type": "markdown",
   "id": "84f4127b",
   "metadata": {},
   "source": [
    "## On-line mode"
   ]
  },
  {
   "cell_type": "code",
   "execution_count": 5,
   "id": "e29c46e1",
   "metadata": {},
   "outputs": [],
   "source": [
    "class Perceptron():\n",
    "    # initialize the number of features, weights and bias\n",
    "    def __init__(self, num_features):\n",
    "        self.num_features = num_features\n",
    "        self.weights = torch.zeros(size=(num_features, 1), dtype=torch.float32, device=DEVICE)\n",
    "        self.bias = torch.zeros(size=(1, ), dtype=torch.float32, device=DEVICE)\n",
    "        \n",
    "    # wx + b (1)\n",
    "    def forward(self, x):\n",
    "        linear = torch.add(torch.mm(x, self.weights), self.bias)\n",
    "        predictions = torch.where(linear > 0., 1, 0)\n",
    "        return predictions\n",
    "    \n",
    "    # compute errors (2)\n",
    "    def backward(self, x, y):\n",
    "        predictions = self.forward(x).reshape(-1)\n",
    "        errors = y - predictions\n",
    "        return errors\n",
    "\n",
    "    # for every epoch implement (1) + (2) and update errors\n",
    "    def train(self, x, y, num_epochs):\n",
    "        for e in range(num_epochs):\n",
    "            for i in range(len(y)):\n",
    "                errors = self.backward(x[i].view(1, self.num_features), y[i]).reshape(-1)\n",
    "                self.weights = self.weights + (x[i]*errors).reshape(self.num_features, 1)\n",
    "                self.bias = self.bias + errors\n",
    "    \n",
    "            ### Logging ###\n",
    "            print('Epoch: %03d' %(e+1), end='')\n",
    "            print(' | Accuracy: %.3f' %self.evaluate(x, y), end='')\n",
    "            print(' | Error %.3f' % self.bias)\n",
    "            \n",
    "    # define 'evaluate' method\n",
    "    def evaluate(self, x, y):\n",
    "        predictions = self.forward(x).reshape(-1)\n",
    "        accuracy = torch.sum(predictions==y) / y.size(0)\n",
    "        return accuracy"
   ]
  },
  {
   "cell_type": "code",
   "execution_count": 6,
   "id": "03d10626",
   "metadata": {},
   "outputs": [
    {
     "name": "stdout",
     "output_type": "stream",
     "text": [
      "Epoch: 001 | Accuracy: 1.000 | Error -2.000\n",
      "Epoch: 002 | Accuracy: 1.000 | Error -2.000\n",
      "Epoch: 003 | Accuracy: 1.000 | Error -2.000\n",
      "Epoch: 004 | Accuracy: 1.000 | Error -2.000\n",
      "Epoch: 005 | Accuracy: 1.000 | Error -2.000\n",
      "Epoch: 006 | Accuracy: 1.000 | Error -2.000\n",
      "Epoch: 007 | Accuracy: 1.000 | Error -2.000\n",
      "Epoch: 008 | Accuracy: 1.000 | Error -2.000\n",
      "Epoch: 009 | Accuracy: 1.000 | Error -2.000\n",
      "Epoch: 010 | Accuracy: 1.000 | Error -2.000\n",
      "Epoch: 011 | Accuracy: 1.000 | Error -2.000\n",
      "Epoch: 012 | Accuracy: 1.000 | Error -2.000\n",
      "Epoch: 013 | Accuracy: 1.000 | Error -2.000\n",
      "Epoch: 014 | Accuracy: 1.000 | Error -2.000\n",
      "Epoch: 015 | Accuracy: 1.000 | Error -2.000\n",
      "Epoch: 016 | Accuracy: 1.000 | Error -2.000\n",
      "Epoch: 017 | Accuracy: 1.000 | Error -2.000\n",
      "Epoch: 018 | Accuracy: 1.000 | Error -2.000\n",
      "Epoch: 019 | Accuracy: 1.000 | Error -2.000\n",
      "Epoch: 020 | Accuracy: 1.000 | Error -2.000\n"
     ]
    }
   ],
   "source": [
    "model = Perceptron(num_features=X_train.size(1))\n",
    "model.train(X_train, y_train, num_epochs=20)"
   ]
  },
  {
   "cell_type": "code",
   "execution_count": 7,
   "id": "fad54599",
   "metadata": {},
   "outputs": [
    {
     "name": "stdout",
     "output_type": "stream",
     "text": [
      "Test Accuracy 1.000\n"
     ]
    }
   ],
   "source": [
    "print(f'Test Accuracy {model.evaluate(X_test, y_test):.3f}')"
   ]
  },
  {
   "cell_type": "markdown",
   "id": "1bc7b66d",
   "metadata": {},
   "source": [
    "## Minibatch-mode"
   ]
  },
  {
   "cell_type": "code",
   "execution_count": 8,
   "id": "bfbf40b7",
   "metadata": {},
   "outputs": [],
   "source": [
    "class Perceptron():\n",
    "    def __init__(self, num_features):\n",
    "        self.num_features = num_features\n",
    "        self.weights = torch.zeros(num_features, 1, dtype=torch.float32, device=DEVICE)\n",
    "        self.bias = torch.zeros(1, dtype=torch.float32, device=DEVICE)\n",
    "        \n",
    "    def forward(self, x):\n",
    "        linear = torch.mm(x, self.weights) + self.bias\n",
    "        predictions = torch.where(linear > 0., 1, 0)\n",
    "        return predictions.view(-1)\n",
    "    \n",
    "    def backward(self, x, y):\n",
    "        predictions = self.forward(x)\n",
    "        errors = y - predictions\n",
    "        return errors\n",
    "    \n",
    "    def train(self, x, y, num_epochs, minibatch_size=10, seed=123):\n",
    "        shuffle_idx = torch.randperm(y.size(0))\n",
    "        minibatches = torch.split(shuffle_idx, minibatch_size)\n",
    "        torch.manual_seed(seed)\n",
    "        \n",
    "        for e in range(num_epochs):\n",
    "            for minibatch_idx in minibatches:\n",
    "                errors = self.backward(x[minibatch_idx], y[minibatch_idx])\n",
    "                self.weights += torch.mm(errors.view(-1, 1).t(), x[minibatch_idx]).view(self.num_features, 1)\n",
    "                self.bias = torch.sum(errors)\n",
    "\n",
    "            ### Logging ###\n",
    "            print('Epoch: %03d' %(e+1), end='')\n",
    "            print(' | Accuracy: %.3f' %self.evaluate(x, y), end='')\n",
    "            print(' | Error: %.3f' % self.bias)\n",
    "\n",
    "    def evaluate(self, x, y):\n",
    "        y_pred = self.forward(x)\n",
    "        accuracy = torch.sum(y_pred==y) / y.size(0)\n",
    "        return accuracy"
   ]
  },
  {
   "cell_type": "code",
   "execution_count": 9,
   "id": "79192597",
   "metadata": {},
   "outputs": [
    {
     "name": "stdout",
     "output_type": "stream",
     "text": [
      "Epoch: 001 | Accuracy: 0.960 | Error: 0.000\n",
      "Epoch: 002 | Accuracy: 0.960 | Error: 0.000\n",
      "Epoch: 003 | Accuracy: 0.960 | Error: 0.000\n",
      "Epoch: 004 | Accuracy: 0.960 | Error: 0.000\n",
      "Epoch: 005 | Accuracy: 0.960 | Error: 0.000\n",
      "Epoch: 006 | Accuracy: 0.960 | Error: 0.000\n",
      "Epoch: 007 | Accuracy: 0.960 | Error: 0.000\n",
      "Epoch: 008 | Accuracy: 0.960 | Error: 0.000\n",
      "Epoch: 009 | Accuracy: 0.960 | Error: 0.000\n",
      "Epoch: 010 | Accuracy: 0.960 | Error: 0.000\n",
      "Epoch: 011 | Accuracy: 0.960 | Error: 0.000\n",
      "Epoch: 012 | Accuracy: 0.973 | Error: 0.000\n",
      "Epoch: 013 | Accuracy: 0.960 | Error: 0.000\n",
      "Epoch: 014 | Accuracy: 0.960 | Error: 0.000\n",
      "Epoch: 015 | Accuracy: 0.960 | Error: 0.000\n",
      "Epoch: 016 | Accuracy: 0.960 | Error: 0.000\n",
      "Epoch: 017 | Accuracy: 0.973 | Error: 0.000\n",
      "Epoch: 018 | Accuracy: 0.973 | Error: 0.000\n",
      "Epoch: 019 | Accuracy: 0.973 | Error: 0.000\n",
      "Epoch: 020 | Accuracy: 0.973 | Error: 0.000\n"
     ]
    }
   ],
   "source": [
    "model = Perceptron(num_features=X_train.size(1))\n",
    "model.train(X_train, y_train, num_epochs=20)"
   ]
  },
  {
   "cell_type": "code",
   "execution_count": 10,
   "id": "675f94ba",
   "metadata": {},
   "outputs": [
    {
     "name": "stdout",
     "output_type": "stream",
     "text": [
      "Test Accuracy: 0.960\n"
     ]
    }
   ],
   "source": [
    "print(f'Test Accuracy: {model.evaluate(X_test, y_test):.3f}')"
   ]
  },
  {
   "cell_type": "markdown",
   "id": "b7bd6970",
   "metadata": {},
   "source": [
    "## Bacth mode"
   ]
  },
  {
   "cell_type": "code",
   "execution_count": 11,
   "id": "a265b820",
   "metadata": {},
   "outputs": [],
   "source": [
    "class Perceptron():\n",
    "    def __init__(self, num_features):\n",
    "        self.num_features = num_features\n",
    "        self.weights = torch.zeros(num_features, 1, dtype=torch.float32, device=DEVICE)\n",
    "        self.bias = torch.zeros(1, dtype=torch.float32, device=DEVICE)\n",
    "        \n",
    "    def forward(self, x):\n",
    "        linear = torch.mm(x, self.weights) + self.bias\n",
    "        predictions = torch.where(linear > 0., 1, 0)\n",
    "        return predictions.view(-1)\n",
    "    \n",
    "    def backward(self, x, y):\n",
    "        predictions = self.forward(x)\n",
    "        errors = y - predictions\n",
    "        return errors\n",
    "    \n",
    "    def train(self, x, y, num_epochs):\n",
    "        for e in range(num_epochs):\n",
    "            errors = self.backward(x, y)\n",
    "            self.weights += torch.mm(errors.view(-1, 1).t(), x).view(self.num_features, 1)\n",
    "            self.bias = torch.sum(errors)\n",
    "            \n",
    "            ### Logging ###\n",
    "            print('Epoch: %03d' %(e+1), end='')\n",
    "            print(' | Accuracy: %.3f' %self.evaluate(x, y), end='')\n",
    "            print(' | Error: %.3f' % self.bias)\n",
    "    \n",
    "    def evaluate(self, x, y):\n",
    "        y_pred = self.forward(x)\n",
    "        accuracy = torch.sum(y_pred==y) / y.size(0)\n",
    "        return accuracy"
   ]
  },
  {
   "cell_type": "code",
   "execution_count": 12,
   "id": "cb0de731",
   "metadata": {},
   "outputs": [
    {
     "name": "stdout",
     "output_type": "stream",
     "text": [
      "Epoch: 001 | Accuracy: 0.960 | Error: 37.000\n",
      "Epoch: 002 | Accuracy: 0.973 | Error: -3.000\n",
      "Epoch: 003 | Accuracy: 0.973 | Error: -2.000\n",
      "Epoch: 004 | Accuracy: 0.973 | Error: -2.000\n",
      "Epoch: 005 | Accuracy: 0.973 | Error: -2.000\n",
      "Epoch: 006 | Accuracy: 0.973 | Error: -2.000\n",
      "Epoch: 007 | Accuracy: 0.973 | Error: -2.000\n",
      "Epoch: 008 | Accuracy: 0.973 | Error: -2.000\n",
      "Epoch: 009 | Accuracy: 0.973 | Error: -2.000\n",
      "Epoch: 010 | Accuracy: 0.973 | Error: -2.000\n",
      "Epoch: 011 | Accuracy: 0.973 | Error: -2.000\n",
      "Epoch: 012 | Accuracy: 0.973 | Error: -2.000\n",
      "Epoch: 013 | Accuracy: 0.973 | Error: -2.000\n",
      "Epoch: 014 | Accuracy: 0.973 | Error: -2.000\n",
      "Epoch: 015 | Accuracy: 0.973 | Error: -2.000\n",
      "Epoch: 016 | Accuracy: 0.973 | Error: -2.000\n",
      "Epoch: 017 | Accuracy: 0.973 | Error: -2.000\n",
      "Epoch: 018 | Accuracy: 0.973 | Error: -2.000\n",
      "Epoch: 019 | Accuracy: 0.973 | Error: -2.000\n",
      "Epoch: 020 | Accuracy: 0.973 | Error: -2.000\n"
     ]
    }
   ],
   "source": [
    "model = Perceptron(num_features=X_train.size(1))\n",
    "model.train(X_train, y_train, num_epochs=20)"
   ]
  },
  {
   "cell_type": "code",
   "execution_count": 13,
   "id": "e8a07162",
   "metadata": {},
   "outputs": [
    {
     "name": "stdout",
     "output_type": "stream",
     "text": [
      "Test Accuracy: 0.960\n"
     ]
    }
   ],
   "source": [
    "print(f'Test Accuracy: {model.evaluate(X_test, y_test):.3f}')"
   ]
  }
 ],
 "metadata": {
  "kernelspec": {
   "display_name": "Python 3 (ipykernel)",
   "language": "python",
   "name": "python3"
  },
  "language_info": {
   "codemirror_mode": {
    "name": "ipython",
    "version": 3
   },
   "file_extension": ".py",
   "mimetype": "text/x-python",
   "name": "python",
   "nbconvert_exporter": "python",
   "pygments_lexer": "ipython3",
   "version": "3.8.8"
  }
 },
 "nbformat": 4,
 "nbformat_minor": 5
}
