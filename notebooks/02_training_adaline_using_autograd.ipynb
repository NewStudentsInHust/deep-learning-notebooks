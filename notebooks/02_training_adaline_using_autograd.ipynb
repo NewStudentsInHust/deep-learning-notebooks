{
 "cells": [
  {
   "cell_type": "code",
   "execution_count": 1,
   "id": "2a9a7c43",
   "metadata": {},
   "outputs": [],
   "source": [
    "import pandas as pd\n",
    "import torch\n",
    "import torch.nn.functional as F\n",
    "from torch.autograd import grad\n",
    "from sklearn.model_selection import train_test_split\n",
    "import matplotlib.pyplot as plt"
   ]
  },
  {
   "cell_type": "code",
   "execution_count": 2,
   "id": "f10fedd5",
   "metadata": {},
   "outputs": [
    {
     "data": {
      "text/html": [
       "<div>\n",
       "<style scoped>\n",
       "    .dataframe tbody tr th:only-of-type {\n",
       "        vertical-align: middle;\n",
       "    }\n",
       "\n",
       "    .dataframe tbody tr th {\n",
       "        vertical-align: top;\n",
       "    }\n",
       "\n",
       "    .dataframe thead th {\n",
       "        text-align: right;\n",
       "    }\n",
       "</style>\n",
       "<table border=\"1\" class=\"dataframe\">\n",
       "  <thead>\n",
       "    <tr style=\"text-align: right;\">\n",
       "      <th></th>\n",
       "      <th>X1</th>\n",
       "      <th>X2</th>\n",
       "      <th>y</th>\n",
       "    </tr>\n",
       "  </thead>\n",
       "  <tbody>\n",
       "    <tr>\n",
       "      <th>0</th>\n",
       "      <td>0.77</td>\n",
       "      <td>-1.14</td>\n",
       "      <td>0</td>\n",
       "    </tr>\n",
       "    <tr>\n",
       "      <th>1</th>\n",
       "      <td>-0.33</td>\n",
       "      <td>1.44</td>\n",
       "      <td>0</td>\n",
       "    </tr>\n",
       "    <tr>\n",
       "      <th>2</th>\n",
       "      <td>0.91</td>\n",
       "      <td>-3.07</td>\n",
       "      <td>0</td>\n",
       "    </tr>\n",
       "    <tr>\n",
       "      <th>3</th>\n",
       "      <td>-0.37</td>\n",
       "      <td>-1.91</td>\n",
       "      <td>0</td>\n",
       "    </tr>\n",
       "    <tr>\n",
       "      <th>4</th>\n",
       "      <td>-1.84</td>\n",
       "      <td>-1.13</td>\n",
       "      <td>0</td>\n",
       "    </tr>\n",
       "    <tr>\n",
       "      <th>...</th>\n",
       "      <td>...</td>\n",
       "      <td>...</td>\n",
       "      <td>...</td>\n",
       "    </tr>\n",
       "    <tr>\n",
       "      <th>95</th>\n",
       "      <td>0.71</td>\n",
       "      <td>2.27</td>\n",
       "      <td>1</td>\n",
       "    </tr>\n",
       "    <tr>\n",
       "      <th>96</th>\n",
       "      <td>1.96</td>\n",
       "      <td>0.83</td>\n",
       "      <td>1</td>\n",
       "    </tr>\n",
       "    <tr>\n",
       "      <th>97</th>\n",
       "      <td>2.52</td>\n",
       "      <td>1.83</td>\n",
       "      <td>1</td>\n",
       "    </tr>\n",
       "    <tr>\n",
       "      <th>98</th>\n",
       "      <td>2.77</td>\n",
       "      <td>2.82</td>\n",
       "      <td>1</td>\n",
       "    </tr>\n",
       "    <tr>\n",
       "      <th>99</th>\n",
       "      <td>4.16</td>\n",
       "      <td>3.34</td>\n",
       "      <td>1</td>\n",
       "    </tr>\n",
       "  </tbody>\n",
       "</table>\n",
       "<p>100 rows × 3 columns</p>\n",
       "</div>"
      ],
      "text/plain": [
       "      X1    X2  y\n",
       "0   0.77 -1.14  0\n",
       "1  -0.33  1.44  0\n",
       "2   0.91 -3.07  0\n",
       "3  -0.37 -1.91  0\n",
       "4  -1.84 -1.13  0\n",
       "..   ...   ... ..\n",
       "95  0.71  2.27  1\n",
       "96  1.96  0.83  1\n",
       "97  2.52  1.83  1\n",
       "98  2.77  2.82  1\n",
       "99  4.16  3.34  1\n",
       "\n",
       "[100 rows x 3 columns]"
      ]
     },
     "execution_count": 2,
     "metadata": {},
     "output_type": "execute_result"
    }
   ],
   "source": [
    "df = pd.read_table('toy.txt', names=['X1', 'X2', 'y'])\n",
    "df"
   ]
  },
  {
   "cell_type": "code",
   "execution_count": 3,
   "id": "aadffb2e",
   "metadata": {},
   "outputs": [],
   "source": [
    "# select features and target\n",
    "X = df[['X1', 'X2']]\n",
    "y = df['y']\n",
    "\n",
    "# split the dataset into training and testing set (75/25)\n",
    "X_train, X_test, y_train, y_test = train_test_split(X, y, random_state=1, stratify=y)\n",
    "\n",
    "\n",
    "# convert numpy arrays into tensors\n",
    "X_train = torch.tensor(X_train.values, dtype=torch.float)\n",
    "X_test = torch.tensor(X_test.values, dtype=torch.float)\n",
    "y_train = torch.tensor(y_train.values, dtype=torch.float)\n",
    "y_test = torch.tensor(y_test.values, dtype=torch.float)"
   ]
  },
  {
   "cell_type": "code",
   "execution_count": 4,
   "id": "e8d4692e",
   "metadata": {},
   "outputs": [],
   "source": [
    "cost = []\n",
    "class Adaline(torch.nn.Module):\n",
    "    def __init__(self, num_features):\n",
    "        super(Adaline, self).__init__()\n",
    "        self.num_features = num_features\n",
    "        self.linear = torch.nn.Linear(num_features, 1)\n",
    "        \n",
    "        self.linear.weight.detach().zero_()\n",
    "        self.linear.bias.detach().zero_()\n",
    "        \n",
    "    def forward(self, x):\n",
    "        netinput = self.linear(x)\n",
    "        activation = netinput\n",
    "        return activation.view(-1)\n",
    "    \n",
    "    def fit(self, x, y, num_epochs, learning_rate=0.01):\n",
    "        \n",
    "        # use stochastic gradient descent as the optimizer\n",
    "        optimizer = torch.optim.SGD(self.parameters(), lr=learning_rate)\n",
    "        \n",
    "        for e in range(num_epochs):\n",
    "            # compute output\n",
    "            yhat = self.forward(x)\n",
    "            \n",
    "            # comput the loss\n",
    "            loss = F.mse_loss(yhat, y)\n",
    "            \n",
    "            # reset gradients\n",
    "            optimizer.zero_grad()\n",
    "            \n",
    "            # compute gradients\n",
    "            loss.backward()\n",
    "            \n",
    "            # update weights\n",
    "            optimizer.step()\n",
    "            \n",
    "            ### Logging ###\n",
    "            yhat = self.forward(x)\n",
    "            curr_loss = loss\n",
    "            print('Epochs: %03d' %(e+1), end='')\n",
    "            print('  | MSE: %.3f' % curr_loss)\n",
    "            cost.append(curr_loss)\n",
    "            \n",
    "    def evaluate(self, x_test, y_test):\n",
    "        netinput = self.forward(x_test)\n",
    "        y_pred = torch.where(netinput > 0.5, 1, 0)\n",
    "        print(f'Predictions: {y_pred}')\n",
    "        print(f'Accuracy: {torch.sum(y_pred==y_test) / y_test.size(0)*100}%')"
   ]
  },
  {
   "cell_type": "code",
   "execution_count": 5,
   "id": "c1021f90",
   "metadata": {},
   "outputs": [],
   "source": [
    "adaline = Adaline(num_features=X_train.size(1))"
   ]
  },
  {
   "cell_type": "code",
   "execution_count": 6,
   "id": "5f780961",
   "metadata": {},
   "outputs": [
    {
     "name": "stdout",
     "output_type": "stream",
     "text": [
      "Epochs: 001  | MSE: 0.493\n",
      "Epochs: 002  | MSE: 0.408\n",
      "Epochs: 003  | MSE: 0.347\n",
      "Epochs: 004  | MSE: 0.303\n",
      "Epochs: 005  | MSE: 0.271\n",
      "Epochs: 006  | MSE: 0.247\n",
      "Epochs: 007  | MSE: 0.228\n",
      "Epochs: 008  | MSE: 0.213\n",
      "Epochs: 009  | MSE: 0.201\n",
      "Epochs: 010  | MSE: 0.191\n",
      "Epochs: 011  | MSE: 0.183\n",
      "Epochs: 012  | MSE: 0.175\n",
      "Epochs: 013  | MSE: 0.169\n",
      "Epochs: 014  | MSE: 0.163\n",
      "Epochs: 015  | MSE: 0.157\n",
      "Epochs: 016  | MSE: 0.152\n",
      "Epochs: 017  | MSE: 0.147\n",
      "Epochs: 018  | MSE: 0.142\n",
      "Epochs: 019  | MSE: 0.138\n",
      "Epochs: 020  | MSE: 0.134\n",
      "Epochs: 021  | MSE: 0.130\n",
      "Epochs: 022  | MSE: 0.126\n",
      "Epochs: 023  | MSE: 0.123\n",
      "Epochs: 024  | MSE: 0.119\n",
      "Epochs: 025  | MSE: 0.116\n",
      "Epochs: 026  | MSE: 0.113\n",
      "Epochs: 027  | MSE: 0.110\n",
      "Epochs: 028  | MSE: 0.107\n",
      "Epochs: 029  | MSE: 0.104\n",
      "Epochs: 030  | MSE: 0.102\n",
      "Epochs: 031  | MSE: 0.099\n",
      "Epochs: 032  | MSE: 0.097\n",
      "Epochs: 033  | MSE: 0.095\n",
      "Epochs: 034  | MSE: 0.092\n",
      "Epochs: 035  | MSE: 0.090\n",
      "Epochs: 036  | MSE: 0.088\n",
      "Epochs: 037  | MSE: 0.086\n",
      "Epochs: 038  | MSE: 0.084\n",
      "Epochs: 039  | MSE: 0.082\n",
      "Epochs: 040  | MSE: 0.081\n"
     ]
    }
   ],
   "source": [
    "adaline.fit(X_train, y_train, num_epochs=40)"
   ]
  },
  {
   "cell_type": "code",
   "execution_count": 7,
   "id": "4be3aee9",
   "metadata": {},
   "outputs": [
    {
     "name": "stdout",
     "output_type": "stream",
     "text": [
      "Predictions: tensor([1, 0, 0, 1, 1, 0, 1, 1, 1, 0, 0, 1, 1, 0, 1, 0, 0, 0, 0, 0, 1, 1, 0, 0,\n",
      "        1])\n",
      "Accuracy: 96.0%\n"
     ]
    }
   ],
   "source": [
    "adaline.evaluate(X_test, y_test)"
   ]
  },
  {
   "cell_type": "code",
   "execution_count": 8,
   "id": "42f5872f",
   "metadata": {},
   "outputs": [
    {
     "data": {
      "text/plain": [
       "[<matplotlib.lines.Line2D at 0x24eee1c7eb0>]"
      ]
     },
     "execution_count": 8,
     "metadata": {},
     "output_type": "execute_result"
    },
    {
     "data": {
      "image/png": "[encoded data removed]",
      "text/plain": [
       "<Figure size 432x288 with 1 Axes>"
      ]
     },
     "metadata": {
      "needs_background": "light"
     },
     "output_type": "display_data"
    }
   ],
   "source": [
    "plt.plot(range(len(cost)), cost)"
   ]
  }
 ],
 "metadata": {
  "kernelspec": {
   "display_name": "Python 3 (ipykernel)",
   "language": "python",
   "name": "python3"
  },
  "language_info": {
   "codemirror_mode": {
    "name": "ipython",
    "version": 3
   },
   "file_extension": ".py",
   "mimetype": "text/x-python",
   "name": "python",
   "nbconvert_exporter": "python",
   "pygments_lexer": "ipython3",
   "version": "3.8.8"
  }
 },
 "nbformat": 4,
 "nbformat_minor": 5
}
