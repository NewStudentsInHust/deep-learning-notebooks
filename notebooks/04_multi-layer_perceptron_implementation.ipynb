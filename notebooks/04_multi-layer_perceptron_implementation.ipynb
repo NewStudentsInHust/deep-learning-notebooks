{
 "cells": [
  {
   "cell_type": "markdown",
   "id": "264962c6",
   "metadata": {},
   "source": [
    "# Mulilayer Perceptron"
   ]
  },
  {
   "cell_type": "code",
   "execution_count": 1,
   "id": "1cc30097",
   "metadata": {},
   "outputs": [],
   "source": [
    "import pandas as pd\n",
    "import matplotlib.pyplot as plt\n",
    "import time\n",
    "import torch\n",
    "import torch.nn.functional as F\n",
    "from torchvision import datasets\n",
    "from torchvision import transforms\n",
    "from torch.utils.data import DataLoader"
   ]
  },
  {
   "cell_type": "code",
   "execution_count": 2,
   "id": "2b068cca",
   "metadata": {},
   "outputs": [
    {
     "name": "stdout",
     "output_type": "stream",
     "text": [
      "Downloading http://yann.lecun.com/exdb/mnist/train-images-idx3-ubyte.gz\n",
      "Downloading http://yann.lecun.com/exdb/mnist/train-images-idx3-ubyte.gz to data\\MNIST\\raw\\train-images-idx3-ubyte.gz\n"
     ]
    },
    {
     "data": {
      "application/vnd.jupyter.widget-view+json": {
       "model_id": "8ad1ce09011942e394a9910d7ec91968",
       "version_major": 2,
       "version_minor": 0
      },
      "text/plain": [
       "  0%|          | 0/9912422 [00:00<?, ?it/s]"
      ]
     },
     "metadata": {},
     "output_type": "display_data"
    },
    {
     "name": "stdout",
     "output_type": "stream",
     "text": [
      "Extracting data\\MNIST\\raw\\train-images-idx3-ubyte.gz to data\\MNIST\\raw\n",
      "\n",
      "Downloading http://yann.lecun.com/exdb/mnist/train-labels-idx1-ubyte.gz\n",
      "Downloading http://yann.lecun.com/exdb/mnist/train-labels-idx1-ubyte.gz to data\\MNIST\\raw\\train-labels-idx1-ubyte.gz\n"
     ]
    },
    {
     "data": {
      "application/vnd.jupyter.widget-view+json": {
       "model_id": "03ab0283bc414b43896ddb268bdc6b9f",
       "version_major": 2,
       "version_minor": 0
      },
      "text/plain": [
       "  0%|          | 0/28881 [00:00<?, ?it/s]"
      ]
     },
     "metadata": {},
     "output_type": "display_data"
    },
    {
     "name": "stdout",
     "output_type": "stream",
     "text": [
      "Extracting data\\MNIST\\raw\\train-labels-idx1-ubyte.gz to data\\MNIST\\raw\n",
      "\n",
      "Downloading http://yann.lecun.com/exdb/mnist/t10k-images-idx3-ubyte.gz\n",
      "Downloading http://yann.lecun.com/exdb/mnist/t10k-images-idx3-ubyte.gz to data\\MNIST\\raw\\t10k-images-idx3-ubyte.gz\n"
     ]
    },
    {
     "data": {
      "application/vnd.jupyter.widget-view+json": {
       "model_id": "5dff8c86c025494b9f4f18be97c19bc1",
       "version_major": 2,
       "version_minor": 0
      },
      "text/plain": [
       "  0%|          | 0/1648877 [00:00<?, ?it/s]"
      ]
     },
     "metadata": {},
     "output_type": "display_data"
    },
    {
     "name": "stdout",
     "output_type": "stream",
     "text": [
      "Extracting data\\MNIST\\raw\\t10k-images-idx3-ubyte.gz to data\\MNIST\\raw\n",
      "\n",
      "Downloading http://yann.lecun.com/exdb/mnist/t10k-labels-idx1-ubyte.gz\n",
      "Downloading http://yann.lecun.com/exdb/mnist/t10k-labels-idx1-ubyte.gz to data\\MNIST\\raw\\t10k-labels-idx1-ubyte.gz\n"
     ]
    },
    {
     "data": {
      "application/vnd.jupyter.widget-view+json": {
       "model_id": "c04eb38bb1ec476a8b5485690e84f366",
       "version_major": 2,
       "version_minor": 0
      },
      "text/plain": [
       "  0%|          | 0/4542 [00:00<?, ?it/s]"
      ]
     },
     "metadata": {},
     "output_type": "display_data"
    },
    {
     "name": "stdout",
     "output_type": "stream",
     "text": [
      "Extracting data\\MNIST\\raw\\t10k-labels-idx1-ubyte.gz to data\\MNIST\\raw\n",
      "\n"
     ]
    },
    {
     "name": "stderr",
     "output_type": "stream",
     "text": [
      "C:\\Users\\HP\\anaconda3\\lib\\site-packages\\torchvision\\datasets\\mnist.py:498: UserWarning: The given NumPy array is not writeable, and PyTorch does not support non-writeable tensors. This means you can write to the underlying (supposedly non-writeable) NumPy array using the tensor. You may want to copy the array to protect its data or make it writeable before converting it to a tensor. This type of warning will be suppressed for the rest of this program. (Triggered internally at  ..\\torch\\csrc\\utils\\tensor_numpy.cpp:189.)\n",
      "  return torch.from_numpy(parsed.astype(m[2], copy=False)).view(*s)\n"
     ]
    }
   ],
   "source": [
    "# Settings\n",
    "BATCH_SIZE_TRAIN = 60000\n",
    "BATCH_SIZE_TEST = 10000\n",
    "RANDOM_SEED = 123\n",
    "MINIBATCH_SIZE = 50\n",
    "DEVICE = torch.device('cuda:0' if torch.cuda.is_available() else 'cpu')\n",
    "\n",
    "\n",
    "# Prepare data\n",
    "train_dataset = datasets.MNIST(root='data',\n",
    "                              train=True,\n",
    "                              transform=transforms.ToTensor(),\n",
    "                              download=True)\n",
    "\n",
    "test_dataset = datasets.MNIST(root='data',\n",
    "                             train=False,\n",
    "                             transform=transforms.ToTensor(),\n",
    "                             download=True)\n",
    "\n",
    "train_loader = DataLoader(dataset=train_dataset,\n",
    "                         batch_size=BATCH_SIZE_TRAIN,\n",
    "                         shuffle=False)\n",
    "\n",
    "test_loader = DataLoader(dataset=test_dataset,\n",
    "                        batch_size=BATCH_SIZE_TEST,\n",
    "                        shuffle=False)"
   ]
  },
  {
   "cell_type": "code",
   "execution_count": 3,
   "id": "8ded6674",
   "metadata": {},
   "outputs": [
    {
     "name": "stdout",
     "output_type": "stream",
     "text": [
      "Image Batch Size: torch.Size([60000, 1, 28, 28])\n",
      "Label Batch Size: torch.Size([60000])\n"
     ]
    }
   ],
   "source": [
    "# examine training set\n",
    "for image, label in train_loader:\n",
    "    print(f'Image Batch Size: {image.shape}')\n",
    "    print(f'Label Batch Size: {label.shape}')\n",
    "    break"
   ]
  },
  {
   "cell_type": "code",
   "execution_count": 4,
   "id": "4841adea",
   "metadata": {},
   "outputs": [
    {
     "name": "stdout",
     "output_type": "stream",
     "text": [
      "True Label: 5\n"
     ]
    },
    {
     "data": {
      "image/png": "[encoded data removed]",
      "text/plain": [
       "<Figure size 432x288 with 1 Axes>"
      ]
     },
     "metadata": {
      "needs_background": "light"
     },
     "output_type": "display_data"
    },
    {
     "name": "stdout",
     "output_type": "stream",
     "text": [
      "True Label: 0\n"
     ]
    },
    {
     "data": {
      "image/png": "[encoded data removed]",
      "text/plain": [
       "<Figure size 432x288 with 1 Axes>"
      ]
     },
     "metadata": {
      "needs_background": "light"
     },
     "output_type": "display_data"
    },
    {
     "name": "stdout",
     "output_type": "stream",
     "text": [
      "True Label: 4\n"
     ]
    },
    {
     "data": {
      "image/png": "[encoded data removed]",
      "text/plain": [
       "<Figure size 432x288 with 1 Axes>"
      ]
     },
     "metadata": {
      "needs_background": "light"
     },
     "output_type": "display_data"
    }
   ],
   "source": [
    "# examine training set\n",
    "for idx, img in enumerate(image[0:3]):\n",
    "    plt.imshow(img.view(28, 28), cmap='Blues')\n",
    "    print(f'True Label: {label[idx]}')\n",
    "    plt.show()"
   ]
  },
  {
   "cell_type": "markdown",
   "id": "dbc3055a",
   "metadata": {},
   "source": [
    "## Model Implementation"
   ]
  },
  {
   "cell_type": "code",
   "execution_count": 5,
   "id": "75ce44e6",
   "metadata": {},
   "outputs": [],
   "source": [
    "cost, minibatch_cost = [], []\n",
    "start_time = time.time()\n",
    "\n",
    "class MLP(torch.nn.Module):\n",
    "    \n",
    "    def __init__(self, num_features, num_hidden, num_classes):\n",
    "        super(MLP, self).__init__()\n",
    "        \n",
    "        self.num_features = num_features\n",
    "        self.num_hidden_1 = num_hidden\n",
    "        self.num_classes = num_classes \n",
    "        \n",
    "        # 1st layer\n",
    "        self.linear_1 = torch.nn.Linear(num_features, num_hidden, DEVICE )\n",
    "        self.linear_1.weight.detach().normal_(0, 0.1)\n",
    "        self.linear_1.bias.detach().zero_()\n",
    "        \n",
    "        # 2nd layer\n",
    "        self.linear_out = torch.nn.Linear(num_hidden, num_classes, DEVICE )\n",
    "        self.linear_out.weight.detach().normal_(0, 0.1)\n",
    "        self.linear_out.bias.detach().zero_()\n",
    "        \n",
    "        \n",
    "    def forward(self, x):\n",
    "        out = self.linear_1(x)\n",
    "        out = torch.sigmoid(out)\n",
    "        logits = self.linear_out(out)\n",
    "        probas = torch.softmax(logits, dim=1)\n",
    "        return logits, probas\n",
    "    \n",
    "    def compute_accuracy(self, y__pred_probas, y):\n",
    "        y_pred = torch.argmax(y__pred_probas, dim=1)\n",
    "        accuracy = torch.sum(y_pred == y) / y.shape[0]\n",
    "        return accuracy\n",
    "    \n",
    "    ### Model training ###\n",
    "    def train(self, x, y, num_epochs, minibatch_size=MINIBATCH_SIZE, seed=RANDOM_SEED):\n",
    "        \n",
    "        optimizer = torch.optim.SGD(self.parameters(), lr=0.1)\n",
    "        shuffle_idx = torch.randperm(y.size(0), dtype=torch.long)\n",
    "        minibatches = torch.split(shuffle_idx, minibatch_size)\n",
    "        torch.manual_seed(seed)\n",
    "        \n",
    "        for e in range(num_epochs):\n",
    "            for minibatch_idx in minibatches:\n",
    "                \n",
    "                # forward probagation\n",
    "                logits, probas = self.forward(x[minibatch_idx])\n",
    "                \n",
    "                # compute loss\n",
    "                loss = F.cross_entropy(logits, y[minibatch_idx])\n",
    "                \n",
    "                # reset gradients from previous interaction\n",
    "                optimizer.zero_grad()\n",
    "                \n",
    "                # comp. gradients\n",
    "                loss.backward()\n",
    "                \n",
    "                # model updates\n",
    "                optimizer.step()\n",
    "                \n",
    "                minibatch_cost.append(loss)\n",
    "            \n",
    "            ### Logging ###\n",
    "            with torch.no_grad():\n",
    "                logits, probas = self.forward(x)\n",
    "                curr_loss = F.cross_entropy(logits, y)\n",
    "                acc = self.compute_accuracy(probas, y)\n",
    "                print('Epoch: %03d' %(e+1), end='')\n",
    "                print(' | ACC Train: %.3f' %acc, end='')\n",
    "                print(' | Loss: %.3f' %curr_loss, end='')\n",
    "                print(' | Time elapsed: %.2f min' % ((time.time() - start_time) / 60))\n",
    "                cost.append(curr_loss)\n",
    "                \n",
    "        print('\\n - Total training time: %.2f min' %((time.time() - start_time) / 60))\n",
    "                \n",
    "    def predict(self, x):\n",
    "        logits, probas = self.forward(x)\n",
    "        y_pred = torch.argmax(probas, dim=1)\n",
    "        return y_pred"
   ]
  },
  {
   "cell_type": "code",
   "execution_count": 6,
   "id": "26335034",
   "metadata": {},
   "outputs": [],
   "source": [
    "X_train = image.view(-1, 28*28)\n",
    "y_train = label"
   ]
  },
  {
   "cell_type": "code",
   "execution_count": 7,
   "id": "120bdfff",
   "metadata": {
    "scrolled": true
   },
   "outputs": [
    {
     "name": "stdout",
     "output_type": "stream",
     "text": [
      "Epoch: 001 | ACC Train: 0.895 | Loss: 0.376 | Time elapsed: 0.04 min\n",
      "Epoch: 002 | ACC Train: 0.912 | Loss: 0.305 | Time elapsed: 0.08 min\n",
      "Epoch: 003 | ACC Train: 0.921 | Loss: 0.271 | Time elapsed: 0.13 min\n",
      "Epoch: 004 | ACC Train: 0.929 | Loss: 0.245 | Time elapsed: 0.17 min\n",
      "Epoch: 005 | ACC Train: 0.935 | Loss: 0.225 | Time elapsed: 0.21 min\n",
      "Epoch: 006 | ACC Train: 0.941 | Loss: 0.208 | Time elapsed: 0.25 min\n",
      "Epoch: 007 | ACC Train: 0.945 | Loss: 0.193 | Time elapsed: 0.29 min\n",
      "Epoch: 008 | ACC Train: 0.948 | Loss: 0.180 | Time elapsed: 0.34 min\n",
      "Epoch: 009 | ACC Train: 0.952 | Loss: 0.168 | Time elapsed: 0.38 min\n",
      "Epoch: 010 | ACC Train: 0.954 | Loss: 0.158 | Time elapsed: 0.42 min\n",
      "Epoch: 011 | ACC Train: 0.957 | Loss: 0.149 | Time elapsed: 0.46 min\n",
      "Epoch: 012 | ACC Train: 0.959 | Loss: 0.141 | Time elapsed: 0.51 min\n",
      "Epoch: 013 | ACC Train: 0.961 | Loss: 0.134 | Time elapsed: 0.55 min\n",
      "Epoch: 014 | ACC Train: 0.963 | Loss: 0.128 | Time elapsed: 0.59 min\n",
      "Epoch: 015 | ACC Train: 0.965 | Loss: 0.122 | Time elapsed: 0.63 min\n",
      "Epoch: 016 | ACC Train: 0.967 | Loss: 0.116 | Time elapsed: 0.67 min\n",
      "Epoch: 017 | ACC Train: 0.968 | Loss: 0.111 | Time elapsed: 0.72 min\n",
      "Epoch: 018 | ACC Train: 0.970 | Loss: 0.107 | Time elapsed: 0.76 min\n",
      "Epoch: 019 | ACC Train: 0.971 | Loss: 0.102 | Time elapsed: 0.80 min\n",
      "Epoch: 020 | ACC Train: 0.973 | Loss: 0.098 | Time elapsed: 0.84 min\n",
      "Epoch: 021 | ACC Train: 0.974 | Loss: 0.095 | Time elapsed: 0.88 min\n",
      "Epoch: 022 | ACC Train: 0.975 | Loss: 0.091 | Time elapsed: 0.93 min\n",
      "Epoch: 023 | ACC Train: 0.976 | Loss: 0.088 | Time elapsed: 0.97 min\n",
      "Epoch: 024 | ACC Train: 0.977 | Loss: 0.085 | Time elapsed: 1.01 min\n",
      "Epoch: 025 | ACC Train: 0.978 | Loss: 0.082 | Time elapsed: 1.05 min\n",
      "Epoch: 026 | ACC Train: 0.978 | Loss: 0.080 | Time elapsed: 1.10 min\n",
      "Epoch: 027 | ACC Train: 0.979 | Loss: 0.077 | Time elapsed: 1.14 min\n",
      "Epoch: 028 | ACC Train: 0.980 | Loss: 0.075 | Time elapsed: 1.18 min\n",
      "Epoch: 029 | ACC Train: 0.980 | Loss: 0.072 | Time elapsed: 1.22 min\n",
      "Epoch: 030 | ACC Train: 0.981 | Loss: 0.070 | Time elapsed: 1.27 min\n",
      "Epoch: 031 | ACC Train: 0.982 | Loss: 0.068 | Time elapsed: 1.31 min\n",
      "Epoch: 032 | ACC Train: 0.982 | Loss: 0.066 | Time elapsed: 1.35 min\n",
      "Epoch: 033 | ACC Train: 0.983 | Loss: 0.064 | Time elapsed: 1.39 min\n",
      "Epoch: 034 | ACC Train: 0.983 | Loss: 0.063 | Time elapsed: 1.43 min\n",
      "Epoch: 035 | ACC Train: 0.984 | Loss: 0.061 | Time elapsed: 1.48 min\n",
      "Epoch: 036 | ACC Train: 0.984 | Loss: 0.059 | Time elapsed: 1.52 min\n",
      "Epoch: 037 | ACC Train: 0.985 | Loss: 0.058 | Time elapsed: 1.56 min\n",
      "Epoch: 038 | ACC Train: 0.985 | Loss: 0.056 | Time elapsed: 1.60 min\n",
      "Epoch: 039 | ACC Train: 0.986 | Loss: 0.055 | Time elapsed: 1.64 min\n",
      "Epoch: 040 | ACC Train: 0.986 | Loss: 0.054 | Time elapsed: 1.69 min\n",
      "Epoch: 041 | ACC Train: 0.987 | Loss: 0.052 | Time elapsed: 1.73 min\n",
      "Epoch: 042 | ACC Train: 0.987 | Loss: 0.051 | Time elapsed: 1.77 min\n",
      "Epoch: 043 | ACC Train: 0.988 | Loss: 0.050 | Time elapsed: 1.81 min\n",
      "Epoch: 044 | ACC Train: 0.988 | Loss: 0.049 | Time elapsed: 1.86 min\n",
      "Epoch: 045 | ACC Train: 0.988 | Loss: 0.047 | Time elapsed: 1.90 min\n",
      "Epoch: 046 | ACC Train: 0.989 | Loss: 0.046 | Time elapsed: 1.94 min\n",
      "Epoch: 047 | ACC Train: 0.989 | Loss: 0.045 | Time elapsed: 1.98 min\n",
      "Epoch: 048 | ACC Train: 0.989 | Loss: 0.044 | Time elapsed: 2.03 min\n",
      "Epoch: 049 | ACC Train: 0.990 | Loss: 0.043 | Time elapsed: 2.07 min\n",
      "Epoch: 050 | ACC Train: 0.990 | Loss: 0.042 | Time elapsed: 2.11 min\n",
      "\n",
      " - Total training time: 2.11 min\n"
     ]
    }
   ],
   "source": [
    "# model initialization\n",
    "model = MLP(num_features=X_train.size(1), num_hidden=100,  num_classes=10)\n",
    "model.to(DEVICE )\n",
    "model.train(X_train, y_train, num_epochs=50)"
   ]
  },
  {
   "cell_type": "code",
   "execution_count": 8,
   "id": "80577619",
   "metadata": {},
   "outputs": [
    {
     "data": {
      "image/png": "[encoded data removed]",
      "text/plain": [
       "<Figure size 432x288 with 1 Axes>"
      ]
     },
     "metadata": {
      "needs_background": "light"
     },
     "output_type": "display_data"
    },
    {
     "data": {
      "image/png": "[encoded data removed]",
      "text/plain": [
       "<Figure size 432x288 with 1 Axes>"
      ]
     },
     "metadata": {
      "needs_background": "light"
     },
     "output_type": "display_data"
    }
   ],
   "source": [
    "# Plotting the losses\n",
    "\n",
    "plt.plot(range(len(minibatch_cost)), minibatch_cost)\n",
    "plt.xlabel('Cross Entropy')\n",
    "plt.ylabel('Minibatch')\n",
    "plt.show()\n",
    "\n",
    "plt.plot(range(len(cost)), cost)\n",
    "plt.xlabel('Cross Entropy')\n",
    "plt.ylabel('Epoch')\n",
    "plt.show()"
   ]
  },
  {
   "cell_type": "code",
   "execution_count": 9,
   "id": "00667178",
   "metadata": {},
   "outputs": [
    {
     "name": "stdout",
     "output_type": "stream",
     "text": [
      "Image Batch Size: torch.Size([10000, 1, 28, 28])\n",
      "Label Batch Size: torch.Size([10000])\n"
     ]
    }
   ],
   "source": [
    "for image_test, label_test in test_loader:\n",
    "    print(f'Image Batch Size: {image_test.shape}')\n",
    "    print(f'Label Batch Size: {label_test.shape}')\n",
    "    break"
   ]
  },
  {
   "cell_type": "code",
   "execution_count": 10,
   "id": "47e4d9c1",
   "metadata": {},
   "outputs": [],
   "source": [
    "X_test = image_test.view(-1, 28*28)\n",
    "y_test = label_test"
   ]
  },
  {
   "cell_type": "code",
   "execution_count": 11,
   "id": "909a846e",
   "metadata": {},
   "outputs": [
    {
     "name": "stdout",
     "output_type": "stream",
     "text": [
      "Test ACC: 0.9767000079154968\n"
     ]
    }
   ],
   "source": [
    "y_pred = model.predict(X_test)\n",
    "print(f'Test ACC: {torch.sum(y_test == y_pred) / len(y_test)}')"
   ]
  }
 ],
 "metadata": {
  "kernelspec": {
   "display_name": "Python 3 (ipykernel)",
   "language": "python",
   "name": "python3"
  },
  "language_info": {
   "codemirror_mode": {
    "name": "ipython",
    "version": 3
   },
   "file_extension": ".py",
   "mimetype": "text/x-python",
   "name": "python",
   "nbconvert_exporter": "python",
   "pygments_lexer": "ipython3",
   "version": "3.8.8"
  }
 },
 "nbformat": 4,
 "nbformat_minor": 5
}
