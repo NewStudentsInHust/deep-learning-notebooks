{
 "cells": [
  {
   "cell_type": "markdown",
   "id": "264962c6",
   "metadata": {},
   "source": [
    "# Multilayer Perceptron"
   ]
  },
  {
   "cell_type": "code",
   "execution_count": 1,
   "id": "1cc30097",
   "metadata": {},
   "outputs": [],
   "source": [
    "import pandas as pd\n",
    "import matplotlib.pyplot as plt\n",
    "import time\n",
    "import torch\n",
    "import torch.nn.functional as F\n",
    "from torchvision import datasets\n",
    "from torchvision import transforms\n",
    "from torch.utils.data import DataLoader"
   ]
  },
  {
   "cell_type": "code",
   "execution_count": 2,
   "id": "2b068cca",
   "metadata": {},
   "outputs": [
    {
     "name": "stdout",
     "output_type": "stream",
     "text": [
      "Downloading http://yann.lecun.com/exdb/mnist/train-images-idx3-ubyte.gz\n",
      "Downloading http://yann.lecun.com/exdb/mnist/train-images-idx3-ubyte.gz to data\\MNIST\\raw\\train-images-idx3-ubyte.gz\n"
     ]
    },
    {
     "data": {
      "application/vnd.jupyter.widget-view+json": {
       "model_id": "9a00ad569aac447db13b249e8b096261",
       "version_major": 2,
       "version_minor": 0
      },
      "text/plain": [
       "  0%|          | 0/9912422 [00:00<?, ?it/s]"
      ]
     },
     "metadata": {},
     "output_type": "display_data"
    },
    {
     "name": "stdout",
     "output_type": "stream",
     "text": [
      "Extracting data\\MNIST\\raw\\train-images-idx3-ubyte.gz to data\\MNIST\\raw\n",
      "\n",
      "Downloading http://yann.lecun.com/exdb/mnist/train-labels-idx1-ubyte.gz\n",
      "Downloading http://yann.lecun.com/exdb/mnist/train-labels-idx1-ubyte.gz to data\\MNIST\\raw\\train-labels-idx1-ubyte.gz\n"
     ]
    },
    {
     "data": {
      "application/vnd.jupyter.widget-view+json": {
       "model_id": "c1ac6e95be6545a8a18b83be4006e219",
       "version_major": 2,
       "version_minor": 0
      },
      "text/plain": [
       "  0%|          | 0/28881 [00:00<?, ?it/s]"
      ]
     },
     "metadata": {},
     "output_type": "display_data"
    },
    {
     "name": "stdout",
     "output_type": "stream",
     "text": [
      "Extracting data\\MNIST\\raw\\train-labels-idx1-ubyte.gz to data\\MNIST\\raw\n",
      "\n",
      "Downloading http://yann.lecun.com/exdb/mnist/t10k-images-idx3-ubyte.gz\n",
      "Downloading http://yann.lecun.com/exdb/mnist/t10k-images-idx3-ubyte.gz to data\\MNIST\\raw\\t10k-images-idx3-ubyte.gz\n"
     ]
    },
    {
     "data": {
      "application/vnd.jupyter.widget-view+json": {
       "model_id": "66cd76c4b79948109a207986a1b83805",
       "version_major": 2,
       "version_minor": 0
      },
      "text/plain": [
       "  0%|          | 0/1648877 [00:00<?, ?it/s]"
      ]
     },
     "metadata": {},
     "output_type": "display_data"
    },
    {
     "name": "stdout",
     "output_type": "stream",
     "text": [
      "Extracting data\\MNIST\\raw\\t10k-images-idx3-ubyte.gz to data\\MNIST\\raw\n",
      "\n",
      "Downloading http://yann.lecun.com/exdb/mnist/t10k-labels-idx1-ubyte.gz\n",
      "Downloading http://yann.lecun.com/exdb/mnist/t10k-labels-idx1-ubyte.gz to data\\MNIST\\raw\\t10k-labels-idx1-ubyte.gz\n"
     ]
    },
    {
     "data": {
      "application/vnd.jupyter.widget-view+json": {
       "model_id": "b999570c05864bb3825550bcd37269ac",
       "version_major": 2,
       "version_minor": 0
      },
      "text/plain": [
       "  0%|          | 0/4542 [00:00<?, ?it/s]"
      ]
     },
     "metadata": {},
     "output_type": "display_data"
    },
    {
     "name": "stdout",
     "output_type": "stream",
     "text": [
      "Extracting data\\MNIST\\raw\\t10k-labels-idx1-ubyte.gz to data\\MNIST\\raw\n",
      "\n"
     ]
    },
    {
     "name": "stderr",
     "output_type": "stream",
     "text": [
      "C:\\Users\\HP\\anaconda3\\lib\\site-packages\\torchvision\\datasets\\mnist.py:498: UserWarning: The given NumPy array is not writeable, and PyTorch does not support non-writeable tensors. This means you can write to the underlying (supposedly non-writeable) NumPy array using the tensor. You may want to copy the array to protect its data or make it writeable before converting it to a tensor. This type of warning will be suppressed for the rest of this program. (Triggered internally at  ..\\torch\\csrc\\utils\\tensor_numpy.cpp:189.)\n",
      "  return torch.from_numpy(parsed.astype(m[2], copy=False)).view(*s)\n"
     ]
    }
   ],
   "source": [
    "# Settings\n",
    "BATCH_SIZE_TRAIN = 60000\n",
    "BATCH_SIZE_TEST = 10000\n",
    "RANDOM_SEED = 123\n",
    "MINIBATCH_SIZE = 50\n",
    "DEVICE = torch.device('cuda:0' if torch.cuda.is_available() else 'cpu')\n",
    "\n",
    "\n",
    "# Prepare data\n",
    "train_dataset = datasets.MNIST(root='data',\n",
    "                              train=True,\n",
    "                              transform=transforms.ToTensor(),\n",
    "                              download=True)\n",
    "\n",
    "test_dataset = datasets.MNIST(root='data',\n",
    "                             train=False,\n",
    "                             transform=transforms.ToTensor(),\n",
    "                             download=True)\n",
    "\n",
    "train_loader = DataLoader(dataset=train_dataset,\n",
    "                         batch_size=BATCH_SIZE_TRAIN,\n",
    "                         shuffle=False)\n",
    "\n",
    "test_loader = DataLoader(dataset=test_dataset,\n",
    "                        batch_size=BATCH_SIZE_TEST,\n",
    "                        shuffle=False)"
   ]
  },
  {
   "cell_type": "code",
   "execution_count": 3,
   "id": "8ded6674",
   "metadata": {},
   "outputs": [
    {
     "name": "stdout",
     "output_type": "stream",
     "text": [
      "Image Batch Size: torch.Size([60000, 1, 28, 28])\n",
      "Label Batch Size: torch.Size([60000])\n"
     ]
    }
   ],
   "source": [
    "# examine training set\n",
    "for image, label in train_loader:\n",
    "    print(f'Image Batch Size: {image.shape}')\n",
    "    print(f'Label Batch Size: {label.shape}')\n",
    "    break"
   ]
  },
  {
   "cell_type": "code",
   "execution_count": 4,
   "id": "4841adea",
   "metadata": {},
   "outputs": [
    {
     "name": "stdout",
     "output_type": "stream",
     "text": [
      "True Label: 5\n"
     ]
    },
    {
     "data": {
      "image/png": "[encoded data removed]",
      "text/plain": [
       "<Figure size 432x288 with 1 Axes>"
      ]
     },
     "metadata": {
      "needs_background": "light"
     },
     "output_type": "display_data"
    },
    {
     "name": "stdout",
     "output_type": "stream",
     "text": [
      "True Label: 0\n"
     ]
    },
    {
     "data": {
      "image/png": "[encoded data removed]",
      "text/plain": [
       "<Figure size 432x288 with 1 Axes>"
      ]
     },
     "metadata": {
      "needs_background": "light"
     },
     "output_type": "display_data"
    },
    {
     "name": "stdout",
     "output_type": "stream",
     "text": [
      "True Label: 4\n"
     ]
    },
    {
     "data": {
      "image/png": "[encoded data removed]",
      "text/plain": [
       "<Figure size 432x288 with 1 Axes>"
      ]
     },
     "metadata": {
      "needs_background": "light"
     },
     "output_type": "display_data"
    }
   ],
   "source": [
    "# examine training set\n",
    "for idx, img in enumerate(image[0:3]):\n",
    "    plt.imshow(img.view(28, 28), cmap='Blues')\n",
    "    print(f'True Label: {label[idx]}')\n",
    "    plt.show()"
   ]
  },
  {
   "cell_type": "markdown",
   "id": "dbc3055a",
   "metadata": {},
   "source": [
    "## Model Implementation"
   ]
  },
  {
   "cell_type": "code",
   "execution_count": 5,
   "id": "75ce44e6",
   "metadata": {},
   "outputs": [],
   "source": [
    "cost, minibatch_cost = [], []\n",
    "start_time = time.time()\n",
    "\n",
    "class MLP(torch.nn.Module):\n",
    "    \n",
    "    def __init__(self, num_features, num_hidden, num_classes):\n",
    "        super(MLP, self).__init__()\n",
    "        \n",
    "        self.num_features = num_features\n",
    "        self.num_hidden_1 = num_hidden\n",
    "        self.num_classes = num_classes \n",
    "        \n",
    "        # 1st layer\n",
    "        self.linear_1 = torch.nn.Linear(num_features, num_hidden, DEVICE )\n",
    "        self.linear_1.weight.detach().normal_(0, 0.1)\n",
    "        self.linear_1.bias.detach().zero_()\n",
    "        \n",
    "        # 2nd layer\n",
    "        self.linear_out = torch.nn.Linear(num_hidden, num_classes, DEVICE )\n",
    "        self.linear_out.weight.detach().normal_(0, 0.1)\n",
    "        self.linear_out.bias.detach().zero_()\n",
    "        \n",
    "        \n",
    "    def forward(self, x):\n",
    "        out = self.linear_1(x)\n",
    "        out = torch.sigmoid(out)\n",
    "        logits = self.linear_out(out)\n",
    "        probas = torch.softmax(logits, dim=1)\n",
    "        return logits, probas\n",
    "    \n",
    "    def compute_accuracy(self, y__pred_probas, y):\n",
    "        y_pred = torch.argmax(y__pred_probas, dim=1)\n",
    "        accuracy = torch.sum(y_pred == y) / y.shape[0]\n",
    "        return accuracy\n",
    "    \n",
    "    ### Model training ###\n",
    "    def train(self, x, y, num_epochs, minibatch_size=MINIBATCH_SIZE, seed=RANDOM_SEED):\n",
    "        \n",
    "        optimizer = torch.optim.SGD(self.parameters(), lr=0.1)\n",
    "        shuffle_idx = torch.randperm(y.size(0), dtype=torch.long)\n",
    "        minibatches = torch.split(shuffle_idx, minibatch_size)\n",
    "        torch.manual_seed(seed)\n",
    "        \n",
    "        for e in range(num_epochs):\n",
    "            for minibatch_idx in minibatches:\n",
    "                \n",
    "                # forward probagation\n",
    "                logits, probas = self.forward(x[minibatch_idx])\n",
    "                \n",
    "                # compute loss\n",
    "                loss = F.cross_entropy(logits, y[minibatch_idx])\n",
    "                \n",
    "                # reset gradients from previous interaction\n",
    "                optimizer.zero_grad()\n",
    "                \n",
    "                # comp. gradients\n",
    "                loss.backward()\n",
    "                \n",
    "                # model updates\n",
    "                optimizer.step()\n",
    "                \n",
    "                minibatch_cost.append(loss)\n",
    "            \n",
    "            ### Logging ###\n",
    "            with torch.no_grad():\n",
    "                logits, probas = self.forward(x)\n",
    "                curr_loss = F.cross_entropy(logits, y)\n",
    "                acc = self.compute_accuracy(probas, y)\n",
    "                print('Epoch: %03d' %(e+1), end='')\n",
    "                print(' | ACC Train: %.3f' %acc, end='')\n",
    "                print(' | Loss: %.3f' %curr_loss, end='')\n",
    "                print(' | Time elapsed: %.2f min' % ((time.time() - start_time) / 60))\n",
    "                cost.append(curr_loss)\n",
    "                \n",
    "        print('\\n - Total training time: %.2f min' %((time.time() - start_time) / 60))\n",
    "                \n",
    "    def predict(self, x):\n",
    "        logits, probas = self.forward(x)\n",
    "        y_pred = torch.argmax(probas, dim=1)\n",
    "        return y_pred"
   ]
  },
  {
   "cell_type": "code",
   "execution_count": 6,
   "id": "26335034",
   "metadata": {},
   "outputs": [],
   "source": [
    "X_train = image.view(-1, 28*28)\n",
    "y_train = label"
   ]
  },
  {
   "cell_type": "code",
   "execution_count": null,
   "id": "120bdfff",
   "metadata": {
    "scrolled": true
   },
   "outputs": [
    {
     "name": "stdout",
     "output_type": "stream",
     "text": [
      "Epoch: 001 | ACC Train: 0.896 | Loss: 0.378 | Time elapsed: 0.04 min\n",
      "Epoch: 002 | ACC Train: 0.913 | Loss: 0.306 | Time elapsed: 0.09 min\n",
      "Epoch: 003 | ACC Train: 0.922 | Loss: 0.272 | Time elapsed: 0.13 min\n",
      "Epoch: 004 | ACC Train: 0.929 | Loss: 0.247 | Time elapsed: 0.18 min\n",
      "Epoch: 005 | ACC Train: 0.935 | Loss: 0.227 | Time elapsed: 0.22 min\n",
      "Epoch: 006 | ACC Train: 0.940 | Loss: 0.210 | Time elapsed: 0.26 min\n",
      "Epoch: 007 | ACC Train: 0.945 | Loss: 0.195 | Time elapsed: 0.31 min\n",
      "Epoch: 008 | ACC Train: 0.948 | Loss: 0.182 | Time elapsed: 0.35 min\n",
      "Epoch: 009 | ACC Train: 0.952 | Loss: 0.170 | Time elapsed: 0.39 min\n",
      "Epoch: 010 | ACC Train: 0.955 | Loss: 0.160 | Time elapsed: 0.43 min\n",
      "Epoch: 011 | ACC Train: 0.957 | Loss: 0.151 | Time elapsed: 0.48 min\n",
      "Epoch: 012 | ACC Train: 0.959 | Loss: 0.143 | Time elapsed: 0.52 min\n",
      "Epoch: 013 | ACC Train: 0.961 | Loss: 0.136 | Time elapsed: 0.57 min\n",
      "Epoch: 014 | ACC Train: 0.963 | Loss: 0.129 | Time elapsed: 0.61 min\n",
      "Epoch: 015 | ACC Train: 0.965 | Loss: 0.123 | Time elapsed: 0.65 min\n",
      "Epoch: 016 | ACC Train: 0.967 | Loss: 0.118 | Time elapsed: 0.69 min\n",
      "Epoch: 017 | ACC Train: 0.969 | Loss: 0.113 | Time elapsed: 0.73 min\n",
      "Epoch: 018 | ACC Train: 0.970 | Loss: 0.108 | Time elapsed: 0.78 min\n",
      "Epoch: 019 | ACC Train: 0.971 | Loss: 0.104 | Time elapsed: 0.82 min\n",
      "Epoch: 020 | ACC Train: 0.973 | Loss: 0.100 | Time elapsed: 0.86 min\n",
      "Epoch: 021 | ACC Train: 0.974 | Loss: 0.096 | Time elapsed: 0.90 min\n",
      "Epoch: 022 | ACC Train: 0.975 | Loss: 0.092 | Time elapsed: 0.95 min\n",
      "Epoch: 023 | ACC Train: 0.976 | Loss: 0.089 | Time elapsed: 0.99 min\n",
      "Epoch: 024 | ACC Train: 0.977 | Loss: 0.086 | Time elapsed: 1.03 min\n",
      "Epoch: 025 | ACC Train: 0.978 | Loss: 0.083 | Time elapsed: 1.07 min\n",
      "Epoch: 026 | ACC Train: 0.978 | Loss: 0.080 | Time elapsed: 1.12 min\n",
      "Epoch: 027 | ACC Train: 0.979 | Loss: 0.078 | Time elapsed: 1.16 min\n",
      "Epoch: 028 | ACC Train: 0.980 | Loss: 0.075 | Time elapsed: 1.20 min\n",
      "Epoch: 029 | ACC Train: 0.981 | Loss: 0.073 | Time elapsed: 1.25 min\n",
      "Epoch: 030 | ACC Train: 0.981 | Loss: 0.071 | Time elapsed: 1.30 min\n",
      "Epoch: 031 | ACC Train: 0.982 | Loss: 0.069 | Time elapsed: 1.34 min\n",
      "Epoch: 032 | ACC Train: 0.983 | Loss: 0.067 | Time elapsed: 1.39 min\n",
      "Epoch: 033 | ACC Train: 0.983 | Loss: 0.065 | Time elapsed: 1.43 min\n",
      "Epoch: 034 | ACC Train: 0.984 | Loss: 0.063 | Time elapsed: 1.47 min\n",
      "Epoch: 035 | ACC Train: 0.984 | Loss: 0.062 | Time elapsed: 1.51 min\n",
      "Epoch: 036 | ACC Train: 0.985 | Loss: 0.060 | Time elapsed: 1.56 min\n",
      "Epoch: 037 | ACC Train: 0.985 | Loss: 0.058 | Time elapsed: 1.60 min\n",
      "Epoch: 038 | ACC Train: 0.986 | Loss: 0.057 | Time elapsed: 1.65 min\n",
      "Epoch: 039 | ACC Train: 0.986 | Loss: 0.055 | Time elapsed: 1.69 min\n",
      "Epoch: 040 | ACC Train: 0.987 | Loss: 0.054 | Time elapsed: 1.74 min\n",
      "Epoch: 041 | ACC Train: 0.987 | Loss: 0.053 | Time elapsed: 1.78 min\n",
      "Epoch: 042 | ACC Train: 0.987 | Loss: 0.051 | Time elapsed: 1.82 min\n",
      "Epoch: 043 | ACC Train: 0.988 | Loss: 0.050 | Time elapsed: 1.87 min\n",
      "Epoch: 044 | ACC Train: 0.988 | Loss: 0.049 | Time elapsed: 1.91 min\n"
     ]
    }
   ],
   "source": [
    "# model initialization\n",
    "model = MLP(num_features=X_train.size(1), num_hidden=100,  num_classes=10)\n",
    "model.to(DEVICE )\n",
    "model.train(X_train, y_train, num_epochs=50)"
   ]
  },
  {
   "cell_type": "code",
   "execution_count": null,
   "id": "80577619",
   "metadata": {},
   "outputs": [],
   "source": [
    "# Plotting the losses\n",
    "\n",
    "plt.plot(range(len(minibatch_cost)), minibatch_cost)\n",
    "plt.xlabel('Minibatch')\n",
    "plt.ylabel('Cross Entropy')\n",
    "plt.show()\n",
    "\n",
    "plt.plot(range(len(cost)), cost)\n",
    "plt.xlabel('Epoch')\n",
    "plt.ylabel('Cross Entropy')\n",
    "plt.show()"
   ]
  },
  {
   "cell_type": "code",
   "execution_count": null,
   "id": "00667178",
   "metadata": {},
   "outputs": [],
   "source": [
    "for image_test, label_test in test_loader:\n",
    "    print(f'Image Batch Size: {image_test.shape}')\n",
    "    print(f'Label Batch Size: {label_test.shape}')\n",
    "    break"
   ]
  },
  {
   "cell_type": "code",
   "execution_count": null,
   "id": "47e4d9c1",
   "metadata": {},
   "outputs": [],
   "source": [
    "X_test = image_test.view(-1, 28*28)\n",
    "y_test = label_test"
   ]
  },
  {
   "cell_type": "code",
   "execution_count": null,
   "id": "909a846e",
   "metadata": {},
   "outputs": [],
   "source": [
    "y_pred = model.predict(X_test)\n",
    "print(f'Test ACC: {torch.sum(y_test == y_pred) / len(y_test)}')"
   ]
  }
 ],
 "metadata": {
  "kernelspec": {
   "display_name": "Python 3 (ipykernel)",
   "language": "python",
   "name": "python3"
  },
  "language_info": {
   "codemirror_mode": {
    "name": "ipython",
    "version": 3
   },
   "file_extension": ".py",
   "mimetype": "text/x-python",
   "name": "python",
   "nbconvert_exporter": "python",
   "pygments_lexer": "ipython3",
   "version": "3.8.8"
  }
 },
 "nbformat": 4,
 "nbformat_minor": 5
}
